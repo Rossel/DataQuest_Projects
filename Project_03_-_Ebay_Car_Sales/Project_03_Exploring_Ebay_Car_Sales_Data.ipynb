{
  "nbformat": 4,
  "nbformat_minor": 0,
  "metadata": {
    "colab": {
      "name": "Project 03: Exploring Ebay Car Sales Data.ipynb",
      "provenance": [],
      "collapsed_sections": [
        "uZHrOOqkrYwo"
      ],
      "authorship_tag": "ABX9TyOCKUIn4I/XHmmM6uCCg8Hn",
      "include_colab_link": true
    },
    "kernelspec": {
      "name": "python3",
      "display_name": "Python 3"
    }
  },
  "cells": [
    {
      "cell_type": "markdown",
      "metadata": {
        "id": "view-in-github",
        "colab_type": "text"
      },
      "source": [
        "<a href=\"https://colab.research.google.com/github/Rossel/DataQuest_Projects/blob/master/Project_03_Exploring_Ebay_Car_Sales_Data.ipynb\" target=\"_parent\"><img src=\"https://colab.research.google.com/assets/colab-badge.svg\" alt=\"Open In Colab\"/></a>"
      ]
    },
    {
      "cell_type": "markdown",
      "metadata": {
        "id": "Wyme_OK2EpF7",
        "colab_type": "text"
      },
      "source": [
        "# Project: Exploring Ebay Car Sales Data\n",
        "*A project on data cleaning and data exploration using Python and Pandas to obtain useful insights in the market for second hand cars.*\n",
        "\n",
        "![eBay logo](https://static.ebayinc.com/static/assets/Uploads/Content/_resampled/FillWyIzMzciLCIxOTAiXQ/eBay-Logo-Preview12.png)\n"
      ]
    },
    {
      "cell_type": "markdown",
      "metadata": {
        "id": "h60lAEbyEpVE",
        "colab_type": "text"
      },
      "source": [
        "## 1. Introduction"
      ]
    },
    {
      "cell_type": "markdown",
      "metadata": {
        "id": "cUCTRVSjjTYW",
        "colab_type": "text"
      },
      "source": [
        "In this project from [DataQuest](https://www.dataquest.io/path/data-analyst/), I want to gain insight into the second hand car market. I would like to gain a better understanding of the top German car brands and how their offerings compare in to each other. My favourite car is a Porsche 911, and in this analysis I will compare the top 5 car brands to this sports car on various criteria.\n"
      ]
    },
    {
      "cell_type": "markdown",
      "metadata": {
        "id": "wUZsB_koEpYB",
        "colab_type": "text"
      },
      "source": [
        "### **The dataset**\n",
        "\n",
        "I will work with a dataset of second hand cars cars from [eBay Kleinanzeigen](https://www.ebay-kleinanzeigen.de/s-autos/c216), a classifieds section of the German eBay website. Much of the data is in German, but I will translated it to English for better understanding.\n",
        "\n",
        "The dataset was originally scraped and uploaded to [Kaggle](https://www.kaggle.com/orgesleka/used-cars-database/data). DataQuest made the following modifications to the original dataset:\n",
        "\n",
        "* DataQuest sampled 50,000 data points from the full dataset, to ensure your code runs quickly in our hosted environment\n",
        "* DataQuest dirtied the dataset a bit to more closely resemble what you would expect from a scraped dataset (the version uploaded to Kaggle was cleaned to be easier to work with)\n",
        "\n",
        "The dataset can be downloaded [here](https://drive.google.com/file/d/1H8-SUpdMpteA-Qvxn0F1Ad3Ek3z8lU1t/view?usp=sharing). The data dictionary provided with data is as follows:\n",
        "\n",
        "* `dateCrawled` - When this ad was first crawled. All field-values are taken from this date.\n",
        "* `name` - Name of the car.\n",
        "* `seller` - Whether the seller is private or a dealer.\n",
        "* `offerType` - The type of listing\n",
        "* `price` - The price on the ad to sell the car.\n",
        "* `abtest` - Whether the listing is included in an A/B test.\n",
        "* `vehicleType` - The vehicle Type.\n",
        "* `yearOfRegistration` - The year in which the car was first registered.\n",
        "* `gearbox` - The transmission type.\n",
        "* `powerPS` - The power of the car in PS.\n",
        "* `model` - The car model name.\n",
        "* `kilometer` - How many kilometers the car has driven.\n",
        "* `monthOfRegistration` - The month in which the car was first registered.\n",
        "* `fuelType` - What type of fuel the car uses.\n",
        "* `brand`- The brand of the car.\n",
        "* `notRepairedDamage` - If the car has a damage which is not yet repaired.\n",
        "* `dateCreated` - The date on which the eBay listing was created.\n",
        "* `nrOfPictures` - The number of pictures in the ad.\n",
        "* `postalCode` - The postal code for the location of the vehicle.\n",
        "* `lastSeenOnline` - When the crawler saw this ad last online.\n",
        "\n",
        "With this project I will practice my skills in cleaning the dataset and analysing the used car data. The description of the project can be found [here](https://www.dataquest.io/m/294-guided-project-exploring-ebay-car-sales-data/).\n"
      ]
    },
    {
      "cell_type": "markdown",
      "metadata": {
        "id": "Fa0lP-qGz-Za",
        "colab_type": "text"
      },
      "source": [
        "![car image](https://files.porsche.com/filestore/galleryimagerwd/multimedia/none/modelseries-911carrera992-indoor-08/zoom2/a748dda6-e75c-11e8-bec8-0019999cd470;sN;twebp/porsche-zoom2.webp)"
      ]
    },
    {
      "cell_type": "markdown",
      "metadata": {
        "id": "3MsDzjg41MTR",
        "colab_type": "text"
      },
      "source": [
        "### **Importing the data**\n",
        "\n",
        "Let's start by importing the libraries we need and reading the dataset into pandas using Google Colab.\n"
      ]
    },
    {
      "cell_type": "code",
      "metadata": {
        "id": "I5rPveR_TFl5",
        "colab_type": "code",
        "colab": {}
      },
      "source": [
        "# Import functions from Google modules into Colaboratory\n",
        "!pip install -U -q PyDrive\n",
        "from pydrive.auth import GoogleAuth\n",
        "from pydrive.drive import GoogleDrive\n",
        "from google.colab import auth\n",
        "from oauth2client.client import GoogleCredentials\n",
        "\n",
        "# Authenticate and create the PyDrive client\n",
        "auth.authenticate_user()\n",
        "gauth = GoogleAuth()\n",
        "gauth.credentials = GoogleCredentials.get_application_default()\n",
        "drive = GoogleDrive(gauth)"
      ],
      "execution_count": null,
      "outputs": []
    },
    {
      "cell_type": "code",
      "metadata": {
        "id": "q1ziSWGBiq-x",
        "colab_type": "code",
        "colab": {}
      },
      "source": [
        "# Insert file id from Google Drive shareable link:\n",
        "# https://drive.google.com/file/d/1H8-SUpdMpteA-Qvxn0F1Ad3Ek3z8lU1t/view?usp=sharing\n",
        "id = \"1H8-SUpdMpteA-Qvxn0F1Ad3Ek3z8lU1t\""
      ],
      "execution_count": null,
      "outputs": []
    },
    {
      "cell_type": "code",
      "metadata": {
        "id": "k2TsUUiUi1tE",
        "colab_type": "code",
        "colab": {}
      },
      "source": [
        "# Download the dataset\n",
        "downloaded = drive.CreateFile({'id':id}) \n",
        "downloaded.GetContentFile('autos.csv')"
      ],
      "execution_count": null,
      "outputs": []
    },
    {
      "cell_type": "code",
      "metadata": {
        "id": "RblOqgYLi5Uu",
        "colab_type": "code",
        "colab": {}
      },
      "source": [
        "# Import pandas library\n",
        "import pandas as pd\n",
        "import numpy as np"
      ],
      "execution_count": null,
      "outputs": []
    },
    {
      "cell_type": "markdown",
      "metadata": {
        "id": "iaSUWlFjmQmb",
        "colab_type": "text"
      },
      "source": [
        "The dataset could not be read using \"UTF-8\" or \"Windows-1252\" encoding, so we used \"Latin-1\"."
      ]
    },
    {
      "cell_type": "code",
      "metadata": {
        "id": "oOmAWg2Ilcv4",
        "colab_type": "code",
        "colab": {}
      },
      "source": [
        " # Read encoded csv\n",
        " autos = pd.read_csv(\"autos.csv\", encoding='Latin-1')"
      ],
      "execution_count": null,
      "outputs": []
    },
    {
      "cell_type": "markdown",
      "metadata": {
        "id": "LmoXZP6Djxg7",
        "colab_type": "text"
      },
      "source": [
        "### **Exploring the data**\n",
        "Let's render the first few and last few values of this pandas object, by running the `autos` variable in a separate cell."
      ]
    },
    {
      "cell_type": "code",
      "metadata": {
        "id": "bb5VqZ8emx3w",
        "colab_type": "code",
        "colab": {
          "base_uri": "https://localhost:8080/",
          "height": 760
        },
        "outputId": "6ffa3303-2016-4c2d-ea6a-0118478af7a2"
      },
      "source": [
        "# Render the first few and last rows of the autos dataframe\n",
        "autos"
      ],
      "execution_count": null,
      "outputs": [
        {
          "output_type": "execute_result",
          "data": {
            "text/html": [
              "<div>\n",
              "<style scoped>\n",
              "    .dataframe tbody tr th:only-of-type {\n",
              "        vertical-align: middle;\n",
              "    }\n",
              "\n",
              "    .dataframe tbody tr th {\n",
              "        vertical-align: top;\n",
              "    }\n",
              "\n",
              "    .dataframe thead th {\n",
              "        text-align: right;\n",
              "    }\n",
              "</style>\n",
              "<table border=\"1\" class=\"dataframe\">\n",
              "  <thead>\n",
              "    <tr style=\"text-align: right;\">\n",
              "      <th></th>\n",
              "      <th>dateCrawled</th>\n",
              "      <th>name</th>\n",
              "      <th>seller</th>\n",
              "      <th>offerType</th>\n",
              "      <th>price</th>\n",
              "      <th>abtest</th>\n",
              "      <th>vehicleType</th>\n",
              "      <th>yearOfRegistration</th>\n",
              "      <th>gearbox</th>\n",
              "      <th>powerPS</th>\n",
              "      <th>model</th>\n",
              "      <th>odometer</th>\n",
              "      <th>monthOfRegistration</th>\n",
              "      <th>fuelType</th>\n",
              "      <th>brand</th>\n",
              "      <th>notRepairedDamage</th>\n",
              "      <th>dateCreated</th>\n",
              "      <th>nrOfPictures</th>\n",
              "      <th>postalCode</th>\n",
              "      <th>lastSeen</th>\n",
              "    </tr>\n",
              "  </thead>\n",
              "  <tbody>\n",
              "    <tr>\n",
              "      <th>0</th>\n",
              "      <td>2016-03-26 17:47:46</td>\n",
              "      <td>Peugeot_807_160_NAVTECH_ON_BOARD</td>\n",
              "      <td>privat</td>\n",
              "      <td>Angebot</td>\n",
              "      <td>$5,000</td>\n",
              "      <td>control</td>\n",
              "      <td>bus</td>\n",
              "      <td>2004</td>\n",
              "      <td>manuell</td>\n",
              "      <td>158</td>\n",
              "      <td>andere</td>\n",
              "      <td>150,000km</td>\n",
              "      <td>3</td>\n",
              "      <td>lpg</td>\n",
              "      <td>peugeot</td>\n",
              "      <td>nein</td>\n",
              "      <td>2016-03-26 00:00:00</td>\n",
              "      <td>0</td>\n",
              "      <td>79588</td>\n",
              "      <td>2016-04-06 06:45:54</td>\n",
              "    </tr>\n",
              "    <tr>\n",
              "      <th>1</th>\n",
              "      <td>2016-04-04 13:38:56</td>\n",
              "      <td>BMW_740i_4_4_Liter_HAMANN_UMBAU_Mega_Optik</td>\n",
              "      <td>privat</td>\n",
              "      <td>Angebot</td>\n",
              "      <td>$8,500</td>\n",
              "      <td>control</td>\n",
              "      <td>limousine</td>\n",
              "      <td>1997</td>\n",
              "      <td>automatik</td>\n",
              "      <td>286</td>\n",
              "      <td>7er</td>\n",
              "      <td>150,000km</td>\n",
              "      <td>6</td>\n",
              "      <td>benzin</td>\n",
              "      <td>bmw</td>\n",
              "      <td>nein</td>\n",
              "      <td>2016-04-04 00:00:00</td>\n",
              "      <td>0</td>\n",
              "      <td>71034</td>\n",
              "      <td>2016-04-06 14:45:08</td>\n",
              "    </tr>\n",
              "    <tr>\n",
              "      <th>2</th>\n",
              "      <td>2016-03-26 18:57:24</td>\n",
              "      <td>Volkswagen_Golf_1.6_United</td>\n",
              "      <td>privat</td>\n",
              "      <td>Angebot</td>\n",
              "      <td>$8,990</td>\n",
              "      <td>test</td>\n",
              "      <td>limousine</td>\n",
              "      <td>2009</td>\n",
              "      <td>manuell</td>\n",
              "      <td>102</td>\n",
              "      <td>golf</td>\n",
              "      <td>70,000km</td>\n",
              "      <td>7</td>\n",
              "      <td>benzin</td>\n",
              "      <td>volkswagen</td>\n",
              "      <td>nein</td>\n",
              "      <td>2016-03-26 00:00:00</td>\n",
              "      <td>0</td>\n",
              "      <td>35394</td>\n",
              "      <td>2016-04-06 20:15:37</td>\n",
              "    </tr>\n",
              "    <tr>\n",
              "      <th>3</th>\n",
              "      <td>2016-03-12 16:58:10</td>\n",
              "      <td>Smart_smart_fortwo_coupe_softouch/F1/Klima/Pan...</td>\n",
              "      <td>privat</td>\n",
              "      <td>Angebot</td>\n",
              "      <td>$4,350</td>\n",
              "      <td>control</td>\n",
              "      <td>kleinwagen</td>\n",
              "      <td>2007</td>\n",
              "      <td>automatik</td>\n",
              "      <td>71</td>\n",
              "      <td>fortwo</td>\n",
              "      <td>70,000km</td>\n",
              "      <td>6</td>\n",
              "      <td>benzin</td>\n",
              "      <td>smart</td>\n",
              "      <td>nein</td>\n",
              "      <td>2016-03-12 00:00:00</td>\n",
              "      <td>0</td>\n",
              "      <td>33729</td>\n",
              "      <td>2016-03-15 03:16:28</td>\n",
              "    </tr>\n",
              "    <tr>\n",
              "      <th>4</th>\n",
              "      <td>2016-04-01 14:38:50</td>\n",
              "      <td>Ford_Focus_1_6_Benzin_TÜV_neu_ist_sehr_gepfleg...</td>\n",
              "      <td>privat</td>\n",
              "      <td>Angebot</td>\n",
              "      <td>$1,350</td>\n",
              "      <td>test</td>\n",
              "      <td>kombi</td>\n",
              "      <td>2003</td>\n",
              "      <td>manuell</td>\n",
              "      <td>0</td>\n",
              "      <td>focus</td>\n",
              "      <td>150,000km</td>\n",
              "      <td>7</td>\n",
              "      <td>benzin</td>\n",
              "      <td>ford</td>\n",
              "      <td>nein</td>\n",
              "      <td>2016-04-01 00:00:00</td>\n",
              "      <td>0</td>\n",
              "      <td>39218</td>\n",
              "      <td>2016-04-01 14:38:50</td>\n",
              "    </tr>\n",
              "    <tr>\n",
              "      <th>...</th>\n",
              "      <td>...</td>\n",
              "      <td>...</td>\n",
              "      <td>...</td>\n",
              "      <td>...</td>\n",
              "      <td>...</td>\n",
              "      <td>...</td>\n",
              "      <td>...</td>\n",
              "      <td>...</td>\n",
              "      <td>...</td>\n",
              "      <td>...</td>\n",
              "      <td>...</td>\n",
              "      <td>...</td>\n",
              "      <td>...</td>\n",
              "      <td>...</td>\n",
              "      <td>...</td>\n",
              "      <td>...</td>\n",
              "      <td>...</td>\n",
              "      <td>...</td>\n",
              "      <td>...</td>\n",
              "      <td>...</td>\n",
              "    </tr>\n",
              "    <tr>\n",
              "      <th>49995</th>\n",
              "      <td>2016-03-27 14:38:19</td>\n",
              "      <td>Audi_Q5_3.0_TDI_qu._S_tr.__Navi__Panorama__Xenon</td>\n",
              "      <td>privat</td>\n",
              "      <td>Angebot</td>\n",
              "      <td>$24,900</td>\n",
              "      <td>control</td>\n",
              "      <td>limousine</td>\n",
              "      <td>2011</td>\n",
              "      <td>automatik</td>\n",
              "      <td>239</td>\n",
              "      <td>q5</td>\n",
              "      <td>100,000km</td>\n",
              "      <td>1</td>\n",
              "      <td>diesel</td>\n",
              "      <td>audi</td>\n",
              "      <td>nein</td>\n",
              "      <td>2016-03-27 00:00:00</td>\n",
              "      <td>0</td>\n",
              "      <td>82131</td>\n",
              "      <td>2016-04-01 13:47:40</td>\n",
              "    </tr>\n",
              "    <tr>\n",
              "      <th>49996</th>\n",
              "      <td>2016-03-28 10:50:25</td>\n",
              "      <td>Opel_Astra_F_Cabrio_Bertone_Edition___TÜV_neu+...</td>\n",
              "      <td>privat</td>\n",
              "      <td>Angebot</td>\n",
              "      <td>$1,980</td>\n",
              "      <td>control</td>\n",
              "      <td>cabrio</td>\n",
              "      <td>1996</td>\n",
              "      <td>manuell</td>\n",
              "      <td>75</td>\n",
              "      <td>astra</td>\n",
              "      <td>150,000km</td>\n",
              "      <td>5</td>\n",
              "      <td>benzin</td>\n",
              "      <td>opel</td>\n",
              "      <td>nein</td>\n",
              "      <td>2016-03-28 00:00:00</td>\n",
              "      <td>0</td>\n",
              "      <td>44807</td>\n",
              "      <td>2016-04-02 14:18:02</td>\n",
              "    </tr>\n",
              "    <tr>\n",
              "      <th>49997</th>\n",
              "      <td>2016-04-02 14:44:48</td>\n",
              "      <td>Fiat_500_C_1.2_Dualogic_Lounge</td>\n",
              "      <td>privat</td>\n",
              "      <td>Angebot</td>\n",
              "      <td>$13,200</td>\n",
              "      <td>test</td>\n",
              "      <td>cabrio</td>\n",
              "      <td>2014</td>\n",
              "      <td>automatik</td>\n",
              "      <td>69</td>\n",
              "      <td>500</td>\n",
              "      <td>5,000km</td>\n",
              "      <td>11</td>\n",
              "      <td>benzin</td>\n",
              "      <td>fiat</td>\n",
              "      <td>nein</td>\n",
              "      <td>2016-04-02 00:00:00</td>\n",
              "      <td>0</td>\n",
              "      <td>73430</td>\n",
              "      <td>2016-04-04 11:47:27</td>\n",
              "    </tr>\n",
              "    <tr>\n",
              "      <th>49998</th>\n",
              "      <td>2016-03-08 19:25:42</td>\n",
              "      <td>Audi_A3_2.0_TDI_Sportback_Ambition</td>\n",
              "      <td>privat</td>\n",
              "      <td>Angebot</td>\n",
              "      <td>$22,900</td>\n",
              "      <td>control</td>\n",
              "      <td>kombi</td>\n",
              "      <td>2013</td>\n",
              "      <td>manuell</td>\n",
              "      <td>150</td>\n",
              "      <td>a3</td>\n",
              "      <td>40,000km</td>\n",
              "      <td>11</td>\n",
              "      <td>diesel</td>\n",
              "      <td>audi</td>\n",
              "      <td>nein</td>\n",
              "      <td>2016-03-08 00:00:00</td>\n",
              "      <td>0</td>\n",
              "      <td>35683</td>\n",
              "      <td>2016-04-05 16:45:07</td>\n",
              "    </tr>\n",
              "    <tr>\n",
              "      <th>49999</th>\n",
              "      <td>2016-03-14 00:42:12</td>\n",
              "      <td>Opel_Vectra_1.6_16V</td>\n",
              "      <td>privat</td>\n",
              "      <td>Angebot</td>\n",
              "      <td>$1,250</td>\n",
              "      <td>control</td>\n",
              "      <td>limousine</td>\n",
              "      <td>1996</td>\n",
              "      <td>manuell</td>\n",
              "      <td>101</td>\n",
              "      <td>vectra</td>\n",
              "      <td>150,000km</td>\n",
              "      <td>1</td>\n",
              "      <td>benzin</td>\n",
              "      <td>opel</td>\n",
              "      <td>nein</td>\n",
              "      <td>2016-03-13 00:00:00</td>\n",
              "      <td>0</td>\n",
              "      <td>45897</td>\n",
              "      <td>2016-04-06 21:18:48</td>\n",
              "    </tr>\n",
              "  </tbody>\n",
              "</table>\n",
              "<p>50000 rows × 20 columns</p>\n",
              "</div>"
            ],
            "text/plain": [
              "               dateCrawled  ...             lastSeen\n",
              "0      2016-03-26 17:47:46  ...  2016-04-06 06:45:54\n",
              "1      2016-04-04 13:38:56  ...  2016-04-06 14:45:08\n",
              "2      2016-03-26 18:57:24  ...  2016-04-06 20:15:37\n",
              "3      2016-03-12 16:58:10  ...  2016-03-15 03:16:28\n",
              "4      2016-04-01 14:38:50  ...  2016-04-01 14:38:50\n",
              "...                    ...  ...                  ...\n",
              "49995  2016-03-27 14:38:19  ...  2016-04-01 13:47:40\n",
              "49996  2016-03-28 10:50:25  ...  2016-04-02 14:18:02\n",
              "49997  2016-04-02 14:44:48  ...  2016-04-04 11:47:27\n",
              "49998  2016-03-08 19:25:42  ...  2016-04-05 16:45:07\n",
              "49999  2016-03-14 00:42:12  ...  2016-04-06 21:18:48\n",
              "\n",
              "[50000 rows x 20 columns]"
            ]
          },
          "metadata": {
            "tags": []
          },
          "execution_count": 6
        }
      ]
    },
    {
      "cell_type": "markdown",
      "metadata": {
        "id": "I9pTmkbMm0fH",
        "colab_type": "text"
      },
      "source": [
        "Now we run  the `DataFrame.info()` an `DataFrame.shape()` method to print information about the `autos` dataframe."
      ]
    },
    {
      "cell_type": "code",
      "metadata": {
        "id": "KkTPkVLPm8S3",
        "colab_type": "code",
        "colab": {
          "base_uri": "https://localhost:8080/",
          "height": 496
        },
        "outputId": "ec8d2851-b9f6-4da4-ad38-7aede4f6f7fb"
      },
      "source": [
        "# Print information on the autos dataframe\n",
        "autos.info()"
      ],
      "execution_count": null,
      "outputs": [
        {
          "output_type": "stream",
          "text": [
            "<class 'pandas.core.frame.DataFrame'>\n",
            "RangeIndex: 50000 entries, 0 to 49999\n",
            "Data columns (total 20 columns):\n",
            " #   Column               Non-Null Count  Dtype \n",
            "---  ------               --------------  ----- \n",
            " 0   dateCrawled          50000 non-null  object\n",
            " 1   name                 50000 non-null  object\n",
            " 2   seller               50000 non-null  object\n",
            " 3   offerType            50000 non-null  object\n",
            " 4   price                50000 non-null  object\n",
            " 5   abtest               50000 non-null  object\n",
            " 6   vehicleType          44905 non-null  object\n",
            " 7   yearOfRegistration   50000 non-null  int64 \n",
            " 8   gearbox              47320 non-null  object\n",
            " 9   powerPS              50000 non-null  int64 \n",
            " 10  model                47242 non-null  object\n",
            " 11  odometer             50000 non-null  object\n",
            " 12  monthOfRegistration  50000 non-null  int64 \n",
            " 13  fuelType             45518 non-null  object\n",
            " 14  brand                50000 non-null  object\n",
            " 15  notRepairedDamage    40171 non-null  object\n",
            " 16  dateCreated          50000 non-null  object\n",
            " 17  nrOfPictures         50000 non-null  int64 \n",
            " 18  postalCode           50000 non-null  int64 \n",
            " 19  lastSeen             50000 non-null  object\n",
            "dtypes: int64(5), object(15)\n",
            "memory usage: 7.6+ MB\n"
          ],
          "name": "stdout"
        }
      ]
    },
    {
      "cell_type": "code",
      "metadata": {
        "id": "l9Jt9a8pO2Cq",
        "colab_type": "code",
        "colab": {
          "base_uri": "https://localhost:8080/",
          "height": 34
        },
        "outputId": "78cab1db-34be-4168-b723-83b4b1d74ac4"
      },
      "source": [
        "# Print dataframe dimensions\n",
        "autos.shape"
      ],
      "execution_count": null,
      "outputs": [
        {
          "output_type": "execute_result",
          "data": {
            "text/plain": [
              "(50000, 20)"
            ]
          },
          "metadata": {
            "tags": []
          },
          "execution_count": 8
        }
      ]
    },
    {
      "cell_type": "markdown",
      "metadata": {
        "id": "FAirWVzXnGaR",
        "colab_type": "text"
      },
      "source": [
        "As expected there are 50.000 records across 20 categories. \n",
        "\n",
        "Other observations are:\n",
        "* Five columns are integers, the others are objects (strings).\n",
        "* Five columns contain null-values, but none have more than ~20% null values. \n",
        "* The column names contain capital letters (\"[camel case](https://en.wikipedia.org/wiki/Camel_case)\" formatting) instead of Python's preferred \"[snakecase](https://en.wikipedia.org/wiki/Snake_case)\", which means we cannot simply replace spaces with underscores."
      ]
    },
    {
      "cell_type": "markdown",
      "metadata": {
        "id": "elk2ud4_pwaI",
        "colab_type": "text"
      },
      "source": [
        "### **Duplicate check**\n",
        "Let's check for duplicates:"
      ]
    },
    {
      "cell_type": "code",
      "metadata": {
        "id": "F8t1vyO6HTXO",
        "colab_type": "code",
        "colab": {
          "base_uri": "https://localhost:8080/",
          "height": 67
        },
        "outputId": "5783bc62-136f-4e8b-e7e7-9d700ab9be1b"
      },
      "source": [
        "duplicate_bool = autos.duplicated() \n",
        "autos[duplicate_bool]"
      ],
      "execution_count": null,
      "outputs": [
        {
          "output_type": "execute_result",
          "data": {
            "text/html": [
              "<div>\n",
              "<style scoped>\n",
              "    .dataframe tbody tr th:only-of-type {\n",
              "        vertical-align: middle;\n",
              "    }\n",
              "\n",
              "    .dataframe tbody tr th {\n",
              "        vertical-align: top;\n",
              "    }\n",
              "\n",
              "    .dataframe thead th {\n",
              "        text-align: right;\n",
              "    }\n",
              "</style>\n",
              "<table border=\"1\" class=\"dataframe\">\n",
              "  <thead>\n",
              "    <tr style=\"text-align: right;\">\n",
              "      <th></th>\n",
              "      <th>dateCrawled</th>\n",
              "      <th>name</th>\n",
              "      <th>seller</th>\n",
              "      <th>offerType</th>\n",
              "      <th>price</th>\n",
              "      <th>abtest</th>\n",
              "      <th>vehicleType</th>\n",
              "      <th>yearOfRegistration</th>\n",
              "      <th>gearbox</th>\n",
              "      <th>powerPS</th>\n",
              "      <th>model</th>\n",
              "      <th>odometer</th>\n",
              "      <th>monthOfRegistration</th>\n",
              "      <th>fuelType</th>\n",
              "      <th>brand</th>\n",
              "      <th>notRepairedDamage</th>\n",
              "      <th>dateCreated</th>\n",
              "      <th>nrOfPictures</th>\n",
              "      <th>postalCode</th>\n",
              "      <th>lastSeen</th>\n",
              "    </tr>\n",
              "  </thead>\n",
              "  <tbody>\n",
              "  </tbody>\n",
              "</table>\n",
              "</div>"
            ],
            "text/plain": [
              "Empty DataFrame\n",
              "Columns: [dateCrawled, name, seller, offerType, price, abtest, vehicleType, yearOfRegistration, gearbox, powerPS, model, odometer, monthOfRegistration, fuelType, brand, notRepairedDamage, dateCreated, nrOfPictures, postalCode, lastSeen]\n",
              "Index: []"
            ]
          },
          "metadata": {
            "tags": []
          },
          "execution_count": 9
        }
      ]
    },
    {
      "cell_type": "markdown",
      "metadata": {
        "id": "xGKzbQrXGt2V",
        "colab_type": "text"
      },
      "source": [
        "No duplicates were found given each row represents one unique ad.\n"
      ]
    },
    {
      "cell_type": "markdown",
      "metadata": {
        "id": "ucRgONam0X5h",
        "colab_type": "text"
      },
      "source": [
        "![car image](https://files.porsche.com/filestore/galleryimagerwd/multimedia/none/modelseries-911carrera992-details-01/zoom2/68c55f32-e75a-11e8-bec8-0019999cd470;sN;twebp/porsche-zoom2.webp)"
      ]
    },
    {
      "cell_type": "markdown",
      "metadata": {
        "id": "oOJOD1Y0EpaW",
        "colab_type": "text"
      },
      "source": [
        "## 2. Cleaning Column Names"
      ]
    },
    {
      "cell_type": "markdown",
      "metadata": {
        "id": "FVx48i_ZEpc3",
        "colab_type": "text"
      },
      "source": [
        "Next we will convert the column names to make them more accesible for the reader. We will reword several columns, and convert strings from camelcase to snakecase."
      ]
    },
    {
      "cell_type": "markdown",
      "metadata": {
        "id": "yTl887NBvcHW",
        "colab_type": "text"
      },
      "source": [
        "This is the current array of the existing column names:"
      ]
    },
    {
      "cell_type": "code",
      "metadata": {
        "id": "M06ooLjyvXRz",
        "colab_type": "code",
        "colab": {
          "base_uri": "https://localhost:8080/",
          "height": 123
        },
        "outputId": "4de26796-27b1-4c97-9f68-860cd97e824c"
      },
      "source": [
        "# Print array of column names\n",
        "print(autos.columns)"
      ],
      "execution_count": null,
      "outputs": [
        {
          "output_type": "stream",
          "text": [
            "Index(['dateCrawled', 'name', 'seller', 'offerType', 'price', 'abtest',\n",
            "       'vehicleType', 'yearOfRegistration', 'gearbox', 'powerPS', 'model',\n",
            "       'odometer', 'monthOfRegistration', 'fuelType', 'brand',\n",
            "       'notRepairedDamage', 'dateCreated', 'nrOfPictures', 'postalCode',\n",
            "       'lastSeen'],\n",
            "      dtype='object')\n"
          ],
          "name": "stdout"
        }
      ]
    },
    {
      "cell_type": "markdown",
      "metadata": {
        "id": "ZBHU6R4bvqWQ",
        "colab_type": "text"
      },
      "source": [
        "We will make the following edits to columns names:\n",
        "* `yearOfRegistration` to `registration_year`\n",
        "* `monthOfRegistration` to `registration_month`\n",
        "* `notRepairedDamage` to `unrepaired_damage`\n",
        "* `dateCreated` to `ad_created`\n",
        "* `powerPS` to `power_bhp`\n",
        "* Convert all labels from camelcase to snakecase."
      ]
    },
    {
      "cell_type": "markdown",
      "metadata": {
        "id": "OEgdJQO2ydLN",
        "colab_type": "text"
      },
      "source": [
        "### **The quick and easy rename method**\n",
        "\n"
      ]
    },
    {
      "cell_type": "markdown",
      "metadata": {
        "id": "EVQgohCkqqpb",
        "colab_type": "text"
      },
      "source": [
        "We could rename the columns quick and easy, by using this code (looks clean!):\n",
        "```\n",
        "autos.columns = [\n",
        "       'date_crawled', 'name', 'seller', 'offer_type', 'price', 'abtest',\n",
        "       'vehicle_type', 'registration_year', 'gearbox', 'power_bhp', 'model',\n",
        "       'odometer', 'registration_month', 'fuel_type', 'brand',\n",
        "       'unrepaired_damage', 'ad_created', 'nr_of_pictures', 'postal_code',\n",
        "       'last_seen'\n",
        "]\n",
        "```"
      ]
    },
    {
      "cell_type": "markdown",
      "metadata": {
        "id": "sj_p35nezhC-",
        "colab_type": "text"
      },
      "source": [
        "### **More robust rename method using functions**\n",
        "\n",
        "However, I prefer to use the functions below which would be more useful when more columns need renaming."
      ]
    },
    {
      "cell_type": "code",
      "metadata": {
        "id": "ow5x-rPY1M_z",
        "colab_type": "code",
        "colab": {}
      },
      "source": [
        "# Function name: fix_column(col)\n",
        "# Input: The name of a column of the dataset\n",
        "# Output: A standardized version of the column_name\n",
        "# Description: The column names in the dataset are not consistent. This funtion\n",
        "# will rename some of the columns and set all the column names to a common standard.\n",
        "\n",
        "def fix_column(col):\n",
        "    col = col.replace(\"yearOfRegistration\",\"registration_year\")\n",
        "    col = col.replace(\"monthOfRegistration\",\"registration_month\")\n",
        "    col = col.replace(\"notRepairedDamage\", \"unrepaired_damage\")\n",
        "    col = col.replace(\"dateCreated\", \"ad_created\")\n",
        "    col = col.replace(\"powerPS\", \"power_bhp\")\n",
        "    col = camel_to_snake(col)\n",
        "    return col"
      ],
      "execution_count": null,
      "outputs": []
    },
    {
      "cell_type": "code",
      "metadata": {
        "id": "LQqr_XKs2N9T",
        "colab_type": "code",
        "colab": {}
      },
      "source": [
        "# Function name: camel_to_snake\n",
        "# Input: The name of a column in the dataset\n",
        "# Output: The given name in snake case\n",
        "# Description: This function converts a given column name to snake case to keep\n",
        "# it consistant with Python conventions and standards.\n",
        "\n",
        "def camel_to_snake(col):\n",
        "    pos = 0\n",
        "    for letter in col:\n",
        "        if letter.isupper() == True:\n",
        "            pos = col.index(letter)\n",
        "            string1 = col[:pos]\n",
        "            string2 = col[pos:]\n",
        "            col = string1+\"_\"+string2\n",
        "    return (col.lower())"
      ],
      "execution_count": null,
      "outputs": []
    },
    {
      "cell_type": "code",
      "metadata": {
        "id": "Op__D-f1v7h3",
        "colab_type": "code",
        "colab": {
          "base_uri": "https://localhost:8080/",
          "height": 123
        },
        "outputId": "d1ba5587-1c10-4e7b-c25d-39dc4b141597"
      },
      "source": [
        "autos_columns_fixed = []\n",
        "autos.columns\n",
        "for c in autos.columns:\n",
        "  autos_columns_fixed.append(fix_column(c))\n",
        "\n",
        "autos.columns = autos_columns_fixed\n",
        "\n",
        "autos.columns"
      ],
      "execution_count": null,
      "outputs": [
        {
          "output_type": "execute_result",
          "data": {
            "text/plain": [
              "Index(['date_crawled', 'name', 'seller', 'offer_type', 'price', 'abtest',\n",
              "       'vehicle_type', 'registration_year', 'gearbox', 'power_bhp', 'model',\n",
              "       'odometer', 'registration_month', 'fuel_type', 'brand',\n",
              "       'unrepaired_damage', 'ad_created', 'nr_of_pictures', 'postal_code',\n",
              "       'last_seen'],\n",
              "      dtype='object')"
            ]
          },
          "metadata": {
            "tags": []
          },
          "execution_count": 13
        }
      ]
    },
    {
      "cell_type": "markdown",
      "metadata": {
        "id": "nu6Hbm5EAFLC",
        "colab_type": "text"
      },
      "source": [
        "By adopting the standard Python formatting conventions it will be easier for the reader, other developers and data scientists to understand this notebook."
      ]
    },
    {
      "cell_type": "markdown",
      "metadata": {
        "id": "ZLKh4QnK0qIq",
        "colab_type": "text"
      },
      "source": [
        "![car image](https://files.porsche.com/filestore/galleryimagerwd/multimedia/none/modelseries-911carrera992-details-02/zoom2/6febe695-e75a-11e8-bec8-0019999cd470;sN;twebp/porsche-zoom2.webp)"
      ]
    },
    {
      "cell_type": "markdown",
      "metadata": {
        "id": "kvyDdJmZEpfc",
        "colab_type": "text"
      },
      "source": [
        "## 3. Deeper Exploration and Cleaning"
      ]
    },
    {
      "cell_type": "markdown",
      "metadata": {
        "id": "BKwZuP0fEphm",
        "colab_type": "text"
      },
      "source": [
        "Now let's do some basic data exploration to determine what other cleaning tasks need to be done. First, let's take a look at the descriptive statistics for all columns. By entering `include='all'` we will get both categorical and numeric columns:"
      ]
    },
    {
      "cell_type": "code",
      "metadata": {
        "id": "7nfxGI2-F09I",
        "colab_type": "code",
        "colab": {
          "base_uri": "https://localhost:8080/",
          "height": 414
        },
        "outputId": "c24281cd-aa8c-49d3-bba0-15b1da7a9aba"
      },
      "source": [
        "autos.describe(include='all')"
      ],
      "execution_count": null,
      "outputs": [
        {
          "output_type": "execute_result",
          "data": {
            "text/html": [
              "<div>\n",
              "<style scoped>\n",
              "    .dataframe tbody tr th:only-of-type {\n",
              "        vertical-align: middle;\n",
              "    }\n",
              "\n",
              "    .dataframe tbody tr th {\n",
              "        vertical-align: top;\n",
              "    }\n",
              "\n",
              "    .dataframe thead th {\n",
              "        text-align: right;\n",
              "    }\n",
              "</style>\n",
              "<table border=\"1\" class=\"dataframe\">\n",
              "  <thead>\n",
              "    <tr style=\"text-align: right;\">\n",
              "      <th></th>\n",
              "      <th>date_crawled</th>\n",
              "      <th>name</th>\n",
              "      <th>seller</th>\n",
              "      <th>offer_type</th>\n",
              "      <th>price</th>\n",
              "      <th>abtest</th>\n",
              "      <th>vehicle_type</th>\n",
              "      <th>registration_year</th>\n",
              "      <th>gearbox</th>\n",
              "      <th>power_bhp</th>\n",
              "      <th>model</th>\n",
              "      <th>odometer</th>\n",
              "      <th>registration_month</th>\n",
              "      <th>fuel_type</th>\n",
              "      <th>brand</th>\n",
              "      <th>unrepaired_damage</th>\n",
              "      <th>ad_created</th>\n",
              "      <th>nr_of_pictures</th>\n",
              "      <th>postal_code</th>\n",
              "      <th>last_seen</th>\n",
              "    </tr>\n",
              "  </thead>\n",
              "  <tbody>\n",
              "    <tr>\n",
              "      <th>count</th>\n",
              "      <td>50000</td>\n",
              "      <td>50000</td>\n",
              "      <td>50000</td>\n",
              "      <td>50000</td>\n",
              "      <td>50000</td>\n",
              "      <td>50000</td>\n",
              "      <td>44905</td>\n",
              "      <td>50000.000000</td>\n",
              "      <td>47320</td>\n",
              "      <td>50000.000000</td>\n",
              "      <td>47242</td>\n",
              "      <td>50000</td>\n",
              "      <td>50000.000000</td>\n",
              "      <td>45518</td>\n",
              "      <td>50000</td>\n",
              "      <td>40171</td>\n",
              "      <td>50000</td>\n",
              "      <td>50000.0</td>\n",
              "      <td>50000.000000</td>\n",
              "      <td>50000</td>\n",
              "    </tr>\n",
              "    <tr>\n",
              "      <th>unique</th>\n",
              "      <td>48213</td>\n",
              "      <td>38754</td>\n",
              "      <td>2</td>\n",
              "      <td>2</td>\n",
              "      <td>2357</td>\n",
              "      <td>2</td>\n",
              "      <td>8</td>\n",
              "      <td>NaN</td>\n",
              "      <td>2</td>\n",
              "      <td>NaN</td>\n",
              "      <td>245</td>\n",
              "      <td>13</td>\n",
              "      <td>NaN</td>\n",
              "      <td>7</td>\n",
              "      <td>40</td>\n",
              "      <td>2</td>\n",
              "      <td>76</td>\n",
              "      <td>NaN</td>\n",
              "      <td>NaN</td>\n",
              "      <td>39481</td>\n",
              "    </tr>\n",
              "    <tr>\n",
              "      <th>top</th>\n",
              "      <td>2016-03-05 16:57:05</td>\n",
              "      <td>Ford_Fiesta</td>\n",
              "      <td>privat</td>\n",
              "      <td>Angebot</td>\n",
              "      <td>$0</td>\n",
              "      <td>test</td>\n",
              "      <td>limousine</td>\n",
              "      <td>NaN</td>\n",
              "      <td>manuell</td>\n",
              "      <td>NaN</td>\n",
              "      <td>golf</td>\n",
              "      <td>150,000km</td>\n",
              "      <td>NaN</td>\n",
              "      <td>benzin</td>\n",
              "      <td>volkswagen</td>\n",
              "      <td>nein</td>\n",
              "      <td>2016-04-03 00:00:00</td>\n",
              "      <td>NaN</td>\n",
              "      <td>NaN</td>\n",
              "      <td>2016-04-07 06:17:27</td>\n",
              "    </tr>\n",
              "    <tr>\n",
              "      <th>freq</th>\n",
              "      <td>3</td>\n",
              "      <td>78</td>\n",
              "      <td>49999</td>\n",
              "      <td>49999</td>\n",
              "      <td>1421</td>\n",
              "      <td>25756</td>\n",
              "      <td>12859</td>\n",
              "      <td>NaN</td>\n",
              "      <td>36993</td>\n",
              "      <td>NaN</td>\n",
              "      <td>4024</td>\n",
              "      <td>32424</td>\n",
              "      <td>NaN</td>\n",
              "      <td>30107</td>\n",
              "      <td>10687</td>\n",
              "      <td>35232</td>\n",
              "      <td>1946</td>\n",
              "      <td>NaN</td>\n",
              "      <td>NaN</td>\n",
              "      <td>8</td>\n",
              "    </tr>\n",
              "    <tr>\n",
              "      <th>mean</th>\n",
              "      <td>NaN</td>\n",
              "      <td>NaN</td>\n",
              "      <td>NaN</td>\n",
              "      <td>NaN</td>\n",
              "      <td>NaN</td>\n",
              "      <td>NaN</td>\n",
              "      <td>NaN</td>\n",
              "      <td>2005.073280</td>\n",
              "      <td>NaN</td>\n",
              "      <td>116.355920</td>\n",
              "      <td>NaN</td>\n",
              "      <td>NaN</td>\n",
              "      <td>5.723360</td>\n",
              "      <td>NaN</td>\n",
              "      <td>NaN</td>\n",
              "      <td>NaN</td>\n",
              "      <td>NaN</td>\n",
              "      <td>0.0</td>\n",
              "      <td>50813.627300</td>\n",
              "      <td>NaN</td>\n",
              "    </tr>\n",
              "    <tr>\n",
              "      <th>std</th>\n",
              "      <td>NaN</td>\n",
              "      <td>NaN</td>\n",
              "      <td>NaN</td>\n",
              "      <td>NaN</td>\n",
              "      <td>NaN</td>\n",
              "      <td>NaN</td>\n",
              "      <td>NaN</td>\n",
              "      <td>105.712813</td>\n",
              "      <td>NaN</td>\n",
              "      <td>209.216627</td>\n",
              "      <td>NaN</td>\n",
              "      <td>NaN</td>\n",
              "      <td>3.711984</td>\n",
              "      <td>NaN</td>\n",
              "      <td>NaN</td>\n",
              "      <td>NaN</td>\n",
              "      <td>NaN</td>\n",
              "      <td>0.0</td>\n",
              "      <td>25779.747957</td>\n",
              "      <td>NaN</td>\n",
              "    </tr>\n",
              "    <tr>\n",
              "      <th>min</th>\n",
              "      <td>NaN</td>\n",
              "      <td>NaN</td>\n",
              "      <td>NaN</td>\n",
              "      <td>NaN</td>\n",
              "      <td>NaN</td>\n",
              "      <td>NaN</td>\n",
              "      <td>NaN</td>\n",
              "      <td>1000.000000</td>\n",
              "      <td>NaN</td>\n",
              "      <td>0.000000</td>\n",
              "      <td>NaN</td>\n",
              "      <td>NaN</td>\n",
              "      <td>0.000000</td>\n",
              "      <td>NaN</td>\n",
              "      <td>NaN</td>\n",
              "      <td>NaN</td>\n",
              "      <td>NaN</td>\n",
              "      <td>0.0</td>\n",
              "      <td>1067.000000</td>\n",
              "      <td>NaN</td>\n",
              "    </tr>\n",
              "    <tr>\n",
              "      <th>25%</th>\n",
              "      <td>NaN</td>\n",
              "      <td>NaN</td>\n",
              "      <td>NaN</td>\n",
              "      <td>NaN</td>\n",
              "      <td>NaN</td>\n",
              "      <td>NaN</td>\n",
              "      <td>NaN</td>\n",
              "      <td>1999.000000</td>\n",
              "      <td>NaN</td>\n",
              "      <td>70.000000</td>\n",
              "      <td>NaN</td>\n",
              "      <td>NaN</td>\n",
              "      <td>3.000000</td>\n",
              "      <td>NaN</td>\n",
              "      <td>NaN</td>\n",
              "      <td>NaN</td>\n",
              "      <td>NaN</td>\n",
              "      <td>0.0</td>\n",
              "      <td>30451.000000</td>\n",
              "      <td>NaN</td>\n",
              "    </tr>\n",
              "    <tr>\n",
              "      <th>50%</th>\n",
              "      <td>NaN</td>\n",
              "      <td>NaN</td>\n",
              "      <td>NaN</td>\n",
              "      <td>NaN</td>\n",
              "      <td>NaN</td>\n",
              "      <td>NaN</td>\n",
              "      <td>NaN</td>\n",
              "      <td>2003.000000</td>\n",
              "      <td>NaN</td>\n",
              "      <td>105.000000</td>\n",
              "      <td>NaN</td>\n",
              "      <td>NaN</td>\n",
              "      <td>6.000000</td>\n",
              "      <td>NaN</td>\n",
              "      <td>NaN</td>\n",
              "      <td>NaN</td>\n",
              "      <td>NaN</td>\n",
              "      <td>0.0</td>\n",
              "      <td>49577.000000</td>\n",
              "      <td>NaN</td>\n",
              "    </tr>\n",
              "    <tr>\n",
              "      <th>75%</th>\n",
              "      <td>NaN</td>\n",
              "      <td>NaN</td>\n",
              "      <td>NaN</td>\n",
              "      <td>NaN</td>\n",
              "      <td>NaN</td>\n",
              "      <td>NaN</td>\n",
              "      <td>NaN</td>\n",
              "      <td>2008.000000</td>\n",
              "      <td>NaN</td>\n",
              "      <td>150.000000</td>\n",
              "      <td>NaN</td>\n",
              "      <td>NaN</td>\n",
              "      <td>9.000000</td>\n",
              "      <td>NaN</td>\n",
              "      <td>NaN</td>\n",
              "      <td>NaN</td>\n",
              "      <td>NaN</td>\n",
              "      <td>0.0</td>\n",
              "      <td>71540.000000</td>\n",
              "      <td>NaN</td>\n",
              "    </tr>\n",
              "    <tr>\n",
              "      <th>max</th>\n",
              "      <td>NaN</td>\n",
              "      <td>NaN</td>\n",
              "      <td>NaN</td>\n",
              "      <td>NaN</td>\n",
              "      <td>NaN</td>\n",
              "      <td>NaN</td>\n",
              "      <td>NaN</td>\n",
              "      <td>9999.000000</td>\n",
              "      <td>NaN</td>\n",
              "      <td>17700.000000</td>\n",
              "      <td>NaN</td>\n",
              "      <td>NaN</td>\n",
              "      <td>12.000000</td>\n",
              "      <td>NaN</td>\n",
              "      <td>NaN</td>\n",
              "      <td>NaN</td>\n",
              "      <td>NaN</td>\n",
              "      <td>0.0</td>\n",
              "      <td>99998.000000</td>\n",
              "      <td>NaN</td>\n",
              "    </tr>\n",
              "  </tbody>\n",
              "</table>\n",
              "</div>"
            ],
            "text/plain": [
              "               date_crawled         name  ...   postal_code            last_seen\n",
              "count                 50000        50000  ...  50000.000000                50000\n",
              "unique                48213        38754  ...           NaN                39481\n",
              "top     2016-03-05 16:57:05  Ford_Fiesta  ...           NaN  2016-04-07 06:17:27\n",
              "freq                      3           78  ...           NaN                    8\n",
              "mean                    NaN          NaN  ...  50813.627300                  NaN\n",
              "std                     NaN          NaN  ...  25779.747957                  NaN\n",
              "min                     NaN          NaN  ...   1067.000000                  NaN\n",
              "25%                     NaN          NaN  ...  30451.000000                  NaN\n",
              "50%                     NaN          NaN  ...  49577.000000                  NaN\n",
              "75%                     NaN          NaN  ...  71540.000000                  NaN\n",
              "max                     NaN          NaN  ...  99998.000000                  NaN\n",
              "\n",
              "[11 rows x 20 columns]"
            ]
          },
          "metadata": {
            "tags": []
          },
          "execution_count": 14
        }
      ]
    },
    {
      "cell_type": "markdown",
      "metadata": {
        "id": "uZHrOOqkrYwo",
        "colab_type": "text"
      },
      "source": [
        "### **Exploring the data in more detail**"
      ]
    },
    {
      "cell_type": "markdown",
      "metadata": {
        "id": "czg2d4pRKUDz",
        "colab_type": "text"
      },
      "source": [
        "In order to explore the findings, I executed the code below. It may look like a brute approach but it proved to be effective in offering deep insights for each category:"
      ]
    },
    {
      "cell_type": "code",
      "metadata": {
        "id": "7GKrIUUvMtIC",
        "colab_type": "code",
        "colab": {}
      },
      "source": [
        "# for cat in autos.columns:\n",
        "#  print(cat.upper())\n",
        "#  print('\\n' * 1)\n",
        "#  print(autos[cat].value_counts())\n",
        "#  print('\\n' * 1)\n",
        "#  print(autos[cat].value_counts())\n",
        "#  print('\\n' * 1)\n",
        "#  print(autos[cat].head(20))\n",
        "#  print('\\n' * 4)"
      ],
      "execution_count": null,
      "outputs": []
    },
    {
      "cell_type": "markdown",
      "metadata": {
        "id": "9QGeX7YXwg_d",
        "colab_type": "text"
      },
      "source": [
        "### **Data Exploration Findings**"
      ]
    },
    {
      "cell_type": "markdown",
      "metadata": {
        "id": "vFORd0YmwQoE",
        "colab_type": "text"
      },
      "source": [
        "√ `date_crawled`: This is a consistent time stamp, which looks good.\n",
        "\n",
        "√ `name`: The first word seems to be the brand (as with the column `brand`), the second word the model (as with the column `model`). This column can therefore be interpreted as the title of the ad.\n",
        "\n",
        "☐ `seller`: Only one entry has 'gewerblich’, all the rest is 'private’. \n",
        "*Consider dropping this row.*\n",
        "\n",
        "☐ `offer_type`: Only one entry has 'Gesuch' ('Searched'), all the rest is 'Angebot' ('Offered'). \n",
        "*Consider dropping this row.*\n",
        "\n",
        "☐ `price`: This column is not an integer. For further analysis, remove currency sign, move this to column header and turn into `int`. *Change from string to integer.*\n",
        "\n",
        "√ `abtest`: Only two different values 'test' and 'control'. Looks good.\n",
        "\n",
        "☐ `vehicle_type`: 8 different types are mentioned in German, which could be translated to English. There are also 95 NaN values of the 50,000 entries, which is not much. *Consider translating.*\n",
        "\n",
        "√ `registration_year`: Some numbers in this category are out of the logical range. Entries have a minimal value of 1000, and a maximum value of 9999. Most seem fine.\n",
        "\n",
        "☐ `gear_box`: There are 2680 NaN values. The other records have one of two different types of gearbox. *Consider translating.*\n",
        "\n",
        "☐ `power_ps`: 5500 entries have noted 0 horsepower. The maximum value of 17700 is significantly more than the value at 75%, which suggests inaccurate data in this column. *Requires more investigation.*\n",
        "\n",
        "☐ `model`: Looks similar to the second word in the `name` column, just after the first underscore. *Consider translating.*\n",
        "\n",
        "☐ `odometer`: Mileage, where the \"km\" can be removed, in order to make the cells integers. *Change from string to integer.*\n",
        "\n",
        "☐ `registration_month`: The minimum in this column is \"0\" (with 5075 entries), which also suggests inaccurate rows of data.\n",
        "\n",
        "☐ `fuel_type`: Also described in German, but the entries look accurate and fine. *Consider translating.*\n",
        "\n",
        "☐ `brand`: Looks fine, no duplicate names. Some strings are in German. *Consider translating.*\n",
        "\n",
        "☐ `unrepaired_damage`: Almost 10,000 cases of NaN. The other entries are one of two values, written in German. *Consider translating.*\n",
        "\n",
        "☐ `ad_created`: Date stamp seems fine, but the time stamp can be removed as it is 00:00:00 everywhere. *Consider removing time stamp.*\n",
        "\n",
        "☐ `nr_of_pictures`: Zero everywhere so not much meaning, *Consider dropping this row.*\n",
        "\n",
        "☐ `postal_code`: Has an entry of four digits, where usually 5 digits are used. The entry 99998 also seems unusual, as do numbers after the decimal. *Requires more investigation.*\n",
        "\n",
        "√ `last_seen`: Date stamp seems fine."
      ]
    },
    {
      "cell_type": "markdown",
      "metadata": {
        "id": "UuiFQzs5y1xE",
        "colab_type": "text"
      },
      "source": [
        "### **Dropping columns with mostly one value**\n",
        "\n",
        "There are three columns where all or almost all values are the same. These are:\n",
        "- `seller`\n",
        "- `offer_type`\n",
        "- `nr_of_pictures`\n",
        "\n",
        "The columns will be dropped as they have no significant use for our analysis."
      ]
    },
    {
      "cell_type": "code",
      "metadata": {
        "id": "a3ymFVsZzCs-",
        "colab_type": "code",
        "colab": {
          "base_uri": "https://localhost:8080/",
          "height": 34
        },
        "outputId": "9cd9935c-bda9-4e37-eab8-959a22b9f263"
      },
      "source": [
        "autos.drop([\"seller\", \"offer_type\", \"nr_of_pictures\"], axis=1, inplace = True)\n",
        "autos.shape"
      ],
      "execution_count": null,
      "outputs": [
        {
          "output_type": "execute_result",
          "data": {
            "text/plain": [
              "(50000, 17)"
            ]
          },
          "metadata": {
            "tags": []
          },
          "execution_count": 16
        }
      ]
    },
    {
      "cell_type": "markdown",
      "metadata": {
        "id": "Q9f0Vtj1JCgj",
        "colab_type": "text"
      },
      "source": [
        "### **Translate German words to English**\n",
        "\n",
        "Many strings names in the dataset are in German. For better understanding I will translate these to English."
      ]
    },
    {
      "cell_type": "code",
      "metadata": {
        "id": "3L6KmLMwJPFP",
        "colab_type": "code",
        "colab": {
          "base_uri": "https://localhost:8080/",
          "height": 301
        },
        "outputId": "f5c34eeb-dfbe-4aa9-93ea-1ed80f76418d"
      },
      "source": [
        "# Function name: translate(string)\n",
        "# Input: Strings of German words using a mapping of translated words\n",
        "# Output: Strings translated to English\n",
        "# Description: Many strings names in the dataset are in German. For better understanding\n",
        "# I will translate these to English.\n",
        "\n",
        "mappings = {\"privat\": \"private\", \"gewerblich\": \"commercial\", \"Angebot\": \"Offer\", \"Gesuch\": \"Search\", \"kleinwagen\":\n",
        "\"mini-car\", \"kombi\":\"station wagon\", \"cabrio\": \"convertible\", \"limousine\": \"sedan\", \"andere\": \"other\" , \"manuell\": \"manual\", \"automatik\":\n",
        "\"automatic\", \"benzin\":\"gas\", \"elektro\": \"electric\", \"sonstige_auto\": \"other\", \"sonstige_autos\": \"other\", \"nein\": \"no\", \"ja\": \"yes\"}\n",
        "\n",
        "def translate(string):\n",
        "  if string in mappings:\n",
        "    return mappings[string]\n",
        "  else:\n",
        "    return string\n",
        "\n",
        "columns_change = [\"vehicle_type\", \"gearbox\", \"model\", \"fuel_type\", \"brand\", \"unrepaired_damage\"]\n",
        "\n",
        "autos[columns_change] = autos[columns_change].applymap(translate)\n",
        "\n",
        "autos.head()"
      ],
      "execution_count": null,
      "outputs": [
        {
          "output_type": "execute_result",
          "data": {
            "text/html": [
              "<div>\n",
              "<style scoped>\n",
              "    .dataframe tbody tr th:only-of-type {\n",
              "        vertical-align: middle;\n",
              "    }\n",
              "\n",
              "    .dataframe tbody tr th {\n",
              "        vertical-align: top;\n",
              "    }\n",
              "\n",
              "    .dataframe thead th {\n",
              "        text-align: right;\n",
              "    }\n",
              "</style>\n",
              "<table border=\"1\" class=\"dataframe\">\n",
              "  <thead>\n",
              "    <tr style=\"text-align: right;\">\n",
              "      <th></th>\n",
              "      <th>date_crawled</th>\n",
              "      <th>name</th>\n",
              "      <th>price</th>\n",
              "      <th>abtest</th>\n",
              "      <th>vehicle_type</th>\n",
              "      <th>registration_year</th>\n",
              "      <th>gearbox</th>\n",
              "      <th>power_bhp</th>\n",
              "      <th>model</th>\n",
              "      <th>odometer</th>\n",
              "      <th>registration_month</th>\n",
              "      <th>fuel_type</th>\n",
              "      <th>brand</th>\n",
              "      <th>unrepaired_damage</th>\n",
              "      <th>ad_created</th>\n",
              "      <th>postal_code</th>\n",
              "      <th>last_seen</th>\n",
              "    </tr>\n",
              "  </thead>\n",
              "  <tbody>\n",
              "    <tr>\n",
              "      <th>0</th>\n",
              "      <td>2016-03-26 17:47:46</td>\n",
              "      <td>Peugeot_807_160_NAVTECH_ON_BOARD</td>\n",
              "      <td>$5,000</td>\n",
              "      <td>control</td>\n",
              "      <td>bus</td>\n",
              "      <td>2004</td>\n",
              "      <td>manual</td>\n",
              "      <td>158</td>\n",
              "      <td>other</td>\n",
              "      <td>150,000km</td>\n",
              "      <td>3</td>\n",
              "      <td>lpg</td>\n",
              "      <td>peugeot</td>\n",
              "      <td>no</td>\n",
              "      <td>2016-03-26 00:00:00</td>\n",
              "      <td>79588</td>\n",
              "      <td>2016-04-06 06:45:54</td>\n",
              "    </tr>\n",
              "    <tr>\n",
              "      <th>1</th>\n",
              "      <td>2016-04-04 13:38:56</td>\n",
              "      <td>BMW_740i_4_4_Liter_HAMANN_UMBAU_Mega_Optik</td>\n",
              "      <td>$8,500</td>\n",
              "      <td>control</td>\n",
              "      <td>sedan</td>\n",
              "      <td>1997</td>\n",
              "      <td>automatic</td>\n",
              "      <td>286</td>\n",
              "      <td>7er</td>\n",
              "      <td>150,000km</td>\n",
              "      <td>6</td>\n",
              "      <td>gas</td>\n",
              "      <td>bmw</td>\n",
              "      <td>no</td>\n",
              "      <td>2016-04-04 00:00:00</td>\n",
              "      <td>71034</td>\n",
              "      <td>2016-04-06 14:45:08</td>\n",
              "    </tr>\n",
              "    <tr>\n",
              "      <th>2</th>\n",
              "      <td>2016-03-26 18:57:24</td>\n",
              "      <td>Volkswagen_Golf_1.6_United</td>\n",
              "      <td>$8,990</td>\n",
              "      <td>test</td>\n",
              "      <td>sedan</td>\n",
              "      <td>2009</td>\n",
              "      <td>manual</td>\n",
              "      <td>102</td>\n",
              "      <td>golf</td>\n",
              "      <td>70,000km</td>\n",
              "      <td>7</td>\n",
              "      <td>gas</td>\n",
              "      <td>volkswagen</td>\n",
              "      <td>no</td>\n",
              "      <td>2016-03-26 00:00:00</td>\n",
              "      <td>35394</td>\n",
              "      <td>2016-04-06 20:15:37</td>\n",
              "    </tr>\n",
              "    <tr>\n",
              "      <th>3</th>\n",
              "      <td>2016-03-12 16:58:10</td>\n",
              "      <td>Smart_smart_fortwo_coupe_softouch/F1/Klima/Pan...</td>\n",
              "      <td>$4,350</td>\n",
              "      <td>control</td>\n",
              "      <td>mini-car</td>\n",
              "      <td>2007</td>\n",
              "      <td>automatic</td>\n",
              "      <td>71</td>\n",
              "      <td>fortwo</td>\n",
              "      <td>70,000km</td>\n",
              "      <td>6</td>\n",
              "      <td>gas</td>\n",
              "      <td>smart</td>\n",
              "      <td>no</td>\n",
              "      <td>2016-03-12 00:00:00</td>\n",
              "      <td>33729</td>\n",
              "      <td>2016-03-15 03:16:28</td>\n",
              "    </tr>\n",
              "    <tr>\n",
              "      <th>4</th>\n",
              "      <td>2016-04-01 14:38:50</td>\n",
              "      <td>Ford_Focus_1_6_Benzin_TÜV_neu_ist_sehr_gepfleg...</td>\n",
              "      <td>$1,350</td>\n",
              "      <td>test</td>\n",
              "      <td>station wagon</td>\n",
              "      <td>2003</td>\n",
              "      <td>manual</td>\n",
              "      <td>0</td>\n",
              "      <td>focus</td>\n",
              "      <td>150,000km</td>\n",
              "      <td>7</td>\n",
              "      <td>gas</td>\n",
              "      <td>ford</td>\n",
              "      <td>no</td>\n",
              "      <td>2016-04-01 00:00:00</td>\n",
              "      <td>39218</td>\n",
              "      <td>2016-04-01 14:38:50</td>\n",
              "    </tr>\n",
              "  </tbody>\n",
              "</table>\n",
              "</div>"
            ],
            "text/plain": [
              "          date_crawled  ...            last_seen\n",
              "0  2016-03-26 17:47:46  ...  2016-04-06 06:45:54\n",
              "1  2016-04-04 13:38:56  ...  2016-04-06 14:45:08\n",
              "2  2016-03-26 18:57:24  ...  2016-04-06 20:15:37\n",
              "3  2016-03-12 16:58:10  ...  2016-03-15 03:16:28\n",
              "4  2016-04-01 14:38:50  ...  2016-04-01 14:38:50\n",
              "\n",
              "[5 rows x 17 columns]"
            ]
          },
          "metadata": {
            "tags": []
          },
          "execution_count": 17
        }
      ]
    },
    {
      "cell_type": "markdown",
      "metadata": {
        "id": "GSDQRMHlxsf0",
        "colab_type": "text"
      },
      "source": [
        "![car image](https://files.porsche.com/filestore/galleryimagerwd/multimedia/none/modelseries-911carrera992-details-05/zoom2/91760262-e75a-11e8-bec8-0019999cd470;sN;twebp/porsche-zoom2.webp)"
      ]
    },
    {
      "cell_type": "markdown",
      "metadata": {
        "id": "2-ZQnskhEpkL",
        "colab_type": "text"
      },
      "source": [
        "## 4. Exploring the Odometer and Price Columns"
      ]
    },
    {
      "cell_type": "markdown",
      "metadata": {
        "id": "PhUzicns0EW9",
        "colab_type": "text"
      },
      "source": [
        "There are two important columns that have numeric values stored as text. These are the columns `price` and `odometer`. I will:\n",
        "- Remove any non-numeric characters.\n",
        "- Convert the column to a numeric dtype.\n",
        "- Rename the two columns to `price_usd` and `odometer_km`."
      ]
    },
    {
      "cell_type": "code",
      "metadata": {
        "id": "H0Ikkq_9rcxF",
        "colab_type": "code",
        "colab": {
          "base_uri": "https://localhost:8080/",
          "height": 194
        },
        "outputId": "124f368e-d536-44e4-b466-c57409dc1da0"
      },
      "source": [
        "# Print how the column looks before removing non-numeric characters.\n",
        "print(\"Price column before conversion:\") \n",
        "print(autos[\"price\"].head(2))\n",
        "# The \"$\" and \",\" characters are removed, and the colomn is converted to integers.\n",
        "autos[\"price\"] = (autos[\"price\"]\n",
        "                  .str.replace(\"$\", \"\")\n",
        "                  .str.replace(\",\", \"\")\n",
        "                  .astype(int))\n",
        "\n",
        "# The column label is changed to \"price_usd\".\n",
        "autos.rename({\"price\": \"price_usd\"}, axis=1, inplace=True)\n",
        "\n",
        "# Print the resulting column head to show the converted outcome.\n",
        "print('\\n' * 1)\n",
        "print(\"Price column after conversion:\") \n",
        "print(autos[\"price_usd\"].head(2))"
      ],
      "execution_count": null,
      "outputs": [
        {
          "output_type": "stream",
          "text": [
            "Price column before conversion:\n",
            "0    $5,000\n",
            "1    $8,500\n",
            "Name: price, dtype: object\n",
            "\n",
            "\n",
            "Price column after conversion:\n",
            "0    5000\n",
            "1    8500\n",
            "Name: price_usd, dtype: int64\n"
          ],
          "name": "stdout"
        }
      ]
    },
    {
      "cell_type": "code",
      "metadata": {
        "id": "mG5_0-dC0qVg",
        "colab_type": "code",
        "colab": {
          "base_uri": "https://localhost:8080/",
          "height": 194
        },
        "outputId": "be8a88ea-3b9a-4a2c-e6ed-65461ed063fb"
      },
      "source": [
        "# Print how the column looks before removing non-numeric characters.\n",
        "print(\"Odometer column before conversion:\") \n",
        "print(autos[\"odometer\"].head(2))\n",
        "# The \"km\" and \",\" characters are removed, and the colomn is converted to integers.\n",
        "autos[\"odometer\"] = (autos[\"odometer\"]\n",
        "                     .str.replace(\"km\", \"\")\n",
        "                     .str.replace(\",\", \"\")\n",
        "                     .astype(int))\n",
        "# The column label is changed to \"odometer_km\".\n",
        "autos.rename({\"odometer\": \"odometer_km\"}, axis=1, inplace=True)\n",
        "\n",
        "# Print the resulting column head to show the converted outcome.\n",
        "print('\\n' * 1)\n",
        "print(\"Odometer column after conversion:\") \n",
        "print(autos[\"odometer_km\"].head(2))"
      ],
      "execution_count": null,
      "outputs": [
        {
          "output_type": "stream",
          "text": [
            "Odometer column before conversion:\n",
            "0    150,000km\n",
            "1    150,000km\n",
            "Name: odometer, dtype: object\n",
            "\n",
            "\n",
            "Odometer column after conversion:\n",
            "0    150000\n",
            "1    150000\n",
            "Name: odometer_km, dtype: int64\n"
          ],
          "name": "stdout"
        }
      ]
    },
    {
      "cell_type": "markdown",
      "metadata": {
        "id": "p-OBA7FFEpmd",
        "colab_type": "text"
      },
      "source": [
        "Let's continue exploring the data, specifically looking for data that doesn't look right. We'll start by analyzing the `odometer_km` and `price` columns.\n"
      ]
    },
    {
      "cell_type": "markdown",
      "metadata": {
        "id": "HkYs0cPWgg_U",
        "colab_type": "text"
      },
      "source": [
        "### **Explore Odometer values**"
      ]
    },
    {
      "cell_type": "code",
      "metadata": {
        "id": "EaExRCXb-OSj",
        "colab_type": "code",
        "colab": {
          "base_uri": "https://localhost:8080/",
          "height": 34
        },
        "outputId": "0eb7c2ad-9057-4b93-c687-445fdb5f9b0e"
      },
      "source": [
        "# Examine how many unique values there are for the odometer_km column.\n",
        "autos[\"odometer_km\"].unique().shape"
      ],
      "execution_count": null,
      "outputs": [
        {
          "output_type": "execute_result",
          "data": {
            "text/plain": [
              "(13,)"
            ]
          },
          "metadata": {
            "tags": []
          },
          "execution_count": 20
        }
      ]
    },
    {
      "cell_type": "markdown",
      "metadata": {
        "id": "zmk2RDX4-qhY",
        "colab_type": "text"
      },
      "source": [
        "There are 13 unique values in the `odometer_km` column."
      ]
    },
    {
      "cell_type": "code",
      "metadata": {
        "id": "Y29T00n6w0-4",
        "colab_type": "code",
        "colab": {
          "base_uri": "https://localhost:8080/",
          "height": 176
        },
        "outputId": "c4fe2808-e299-4a63-ac3b-d0d66cbdfe0d"
      },
      "source": [
        "# Examine the min/max/median/mean values to look for outliers.\n",
        "autos[\"odometer_km\"].describe()"
      ],
      "execution_count": null,
      "outputs": [
        {
          "output_type": "execute_result",
          "data": {
            "text/plain": [
              "count     50000.000000\n",
              "mean     125732.700000\n",
              "std       40042.211706\n",
              "min        5000.000000\n",
              "25%      125000.000000\n",
              "50%      150000.000000\n",
              "75%      150000.000000\n",
              "max      150000.000000\n",
              "Name: odometer_km, dtype: float64"
            ]
          },
          "metadata": {
            "tags": []
          },
          "execution_count": 21
        }
      ]
    },
    {
      "cell_type": "code",
      "metadata": {
        "id": "Xz4YQ_Zr-6AT",
        "colab_type": "code",
        "colab": {
          "base_uri": "https://localhost:8080/",
          "height": 265
        },
        "outputId": "4832aab8-cee4-443f-8cea-738155868f4b"
      },
      "source": [
        "# Examine and sort the various values in the column to look for outliers.\n",
        "autos[\"odometer_km\"].value_counts()"
      ],
      "execution_count": null,
      "outputs": [
        {
          "output_type": "execute_result",
          "data": {
            "text/plain": [
              "150000    32424\n",
              "125000     5170\n",
              "100000     2169\n",
              "90000      1757\n",
              "80000      1436\n",
              "70000      1230\n",
              "60000      1164\n",
              "50000      1027\n",
              "5000        967\n",
              "40000       819\n",
              "30000       789\n",
              "20000       784\n",
              "10000       264\n",
              "Name: odometer_km, dtype: int64"
            ]
          },
          "metadata": {
            "tags": []
          },
          "execution_count": 22
        }
      ]
    },
    {
      "cell_type": "markdown",
      "metadata": {
        "id": "76zsh1IE-5YZ",
        "colab_type": "text"
      },
      "source": [
        "In the `odometer_km` column, there seem to be **no values that look unrealistically high or low (outliers)** that we might want to remove. We can assume that eBay offers sellers fixed categories for mileage to select for their cars. Most secondhand cars have a mileage of over 150,000km."
      ]
    },
    {
      "cell_type": "markdown",
      "metadata": {
        "id": "_wBY52o-gaU0",
        "colab_type": "text"
      },
      "source": [
        "### **Explore Price values**"
      ]
    },
    {
      "cell_type": "code",
      "metadata": {
        "id": "lc8CMQoW_wrc",
        "colab_type": "code",
        "colab": {
          "base_uri": "https://localhost:8080/",
          "height": 34
        },
        "outputId": "24a0bb5e-ac86-4ddc-d427-09f739fcf335"
      },
      "source": [
        "# Examine how many unique values there are for the price column.\n",
        "autos[\"price_usd\"].unique().shape"
      ],
      "execution_count": null,
      "outputs": [
        {
          "output_type": "execute_result",
          "data": {
            "text/plain": [
              "(2357,)"
            ]
          },
          "metadata": {
            "tags": []
          },
          "execution_count": 23
        }
      ]
    },
    {
      "cell_type": "markdown",
      "metadata": {
        "id": "HgiTlNEr_XOz",
        "colab_type": "text"
      },
      "source": [
        "There are 2357 unique values in the price column."
      ]
    },
    {
      "cell_type": "code",
      "metadata": {
        "id": "2r3YK-yKBQQZ",
        "colab_type": "code",
        "colab": {
          "base_uri": "https://localhost:8080/",
          "height": 176
        },
        "outputId": "fbaf18eb-9a78-40da-8be0-c012d6854bf4"
      },
      "source": [
        "# Examine the min/max/median/mean values to look for outliers.\n",
        "autos[\"price_usd\"].describe()"
      ],
      "execution_count": null,
      "outputs": [
        {
          "output_type": "execute_result",
          "data": {
            "text/plain": [
              "count    5.000000e+04\n",
              "mean     9.840044e+03\n",
              "std      4.811044e+05\n",
              "min      0.000000e+00\n",
              "25%      1.100000e+03\n",
              "50%      2.950000e+03\n",
              "75%      7.200000e+03\n",
              "max      1.000000e+08\n",
              "Name: price_usd, dtype: float64"
            ]
          },
          "metadata": {
            "tags": []
          },
          "execution_count": 24
        }
      ]
    },
    {
      "cell_type": "code",
      "metadata": {
        "id": "wdc8_aKoBuj9",
        "colab_type": "code",
        "colab": {
          "base_uri": "https://localhost:8080/",
          "height": 212
        },
        "outputId": "94102dd4-a2ec-4b7d-be10-9bc2c727c872"
      },
      "source": [
        "# Sort and examine the value counts in ascending order.\n",
        "print(autos[\"price_usd\"]\n",
        "      .value_counts()\n",
        "      .head(10)\n",
        "      .sort_index(ascending= True)\n",
        "      )"
      ],
      "execution_count": null,
      "outputs": [
        {
          "output_type": "stream",
          "text": [
            "0       1421\n",
            "500      781\n",
            "600      531\n",
            "800      498\n",
            "1000     639\n",
            "1200     639\n",
            "1500     734\n",
            "2000     460\n",
            "2500     643\n",
            "3500     498\n",
            "Name: price_usd, dtype: int64\n"
          ],
          "name": "stdout"
        }
      ]
    },
    {
      "cell_type": "code",
      "metadata": {
        "id": "-fhHZYH3lZMM",
        "colab_type": "code",
        "colab": {
          "base_uri": "https://localhost:8080/",
          "height": 390
        },
        "outputId": "be33a047-33b2-4af3-83b2-1127bdeee29c"
      },
      "source": [
        "# Sort the price column in descending order to see outliers and the most reasonable maximum values.\n",
        "print(autos[\"price_usd\"]\n",
        "      .sort_values(ascending= False)\n",
        "      .iloc[:20]\n",
        "      )"
      ],
      "execution_count": null,
      "outputs": [
        {
          "output_type": "stream",
          "text": [
            "39705    99999999\n",
            "42221    27322222\n",
            "39377    12345678\n",
            "47598    12345678\n",
            "27371    12345678\n",
            "2897     11111111\n",
            "24384    11111111\n",
            "11137    10000000\n",
            "47634     3890000\n",
            "7814      1300000\n",
            "22947     1234566\n",
            "43049      999999\n",
            "514        999999\n",
            "37585      999990\n",
            "36818      350000\n",
            "14715      345000\n",
            "34723      299000\n",
            "35923      295000\n",
            "12682      265000\n",
            "47337      259000\n",
            "Name: price_usd, dtype: int64\n"
          ],
          "name": "stdout"
        }
      ]
    },
    {
      "cell_type": "markdown",
      "metadata": {
        "id": "tVwDDUq6mEAK",
        "colab_type": "text"
      },
      "source": [
        "The two calculations help to interpret what the outliers and unrealistic prices are, and reveal that **the reasonable prices for second hand cars range between USD 500 and USD 350,000.** There are 1421 instances with a price of USD 0. We could reason that eBay is a bidding site, but such outliers do not provide us with good data on current value of second hand cars. Therefore we exclude these from our analysis."
      ]
    },
    {
      "cell_type": "code",
      "metadata": {
        "id": "TNYHqD_hkasV",
        "colab_type": "code",
        "colab": {
          "base_uri": "https://localhost:8080/",
          "height": 176
        },
        "outputId": "9522e635-f5a8-4bdc-a59b-fe390f5e4a15"
      },
      "source": [
        "# Remove price outliers from the dataset\n",
        "autos = autos[autos[\"price_usd\"].between(500,350000)]\n",
        "autos[\"price_usd\"].describe()\n",
        "\n",
        "# Alternative code to do this is: \n",
        "# autos[(autos[\"price\"] > 500) & (autos[\"price\"] < 350000))"
      ],
      "execution_count": null,
      "outputs": [
        {
          "output_type": "execute_result",
          "data": {
            "text/plain": [
              "count     45097.000000\n",
              "mean       6320.659600\n",
              "std        9261.841444\n",
              "min         500.000000\n",
              "25%        1500.000000\n",
              "50%        3500.000000\n",
              "75%        7900.000000\n",
              "max      350000.000000\n",
              "Name: price_usd, dtype: float64"
            ]
          },
          "metadata": {
            "tags": []
          },
          "execution_count": 27
        }
      ]
    },
    {
      "cell_type": "markdown",
      "metadata": {
        "id": "-FSv6rq_31ok",
        "colab_type": "text"
      },
      "source": [
        "After dropping the price outliers, there are 45,097 records left in the dataset. The prices range between USD 500 and USD 350,000 with a mean of USD 6320.\n",
        "\n"
      ]
    },
    {
      "cell_type": "markdown",
      "metadata": {
        "id": "FAmYJ7GcM1_I",
        "colab_type": "text"
      },
      "source": [
        "![car image](https://files.porsche.com/filestore/galleryimagerwd/multimedia/none/modelseries-911carrera992-interior-07/zoom2/029f8d07-e75d-11e8-bec8-0019999cd470;sN;twebp/porsche-zoom2.webp)\n"
      ]
    },
    {
      "cell_type": "markdown",
      "metadata": {
        "id": "_PfkEQRXEpo5",
        "colab_type": "text"
      },
      "source": [
        "## 5. Exploring the date columns"
      ]
    },
    {
      "cell_type": "markdown",
      "metadata": {
        "id": "bOEu78VxEprb",
        "colab_type": "text"
      },
      "source": [
        "Let's now move on to the date columns and understand the date range the data covers. There are 5 columns that should represent date values. Some of these columns were created by the crawler, some came from the website itself. We can differentiate by referring to the data dictionary:\n",
        "\n",
        "\n",
        "\n",
        "```\n",
        "- `date_crawled`: added by the crawler\n",
        "- `last_seen`: added by the crawler\n",
        "- `ad_created`: from the website\n",
        "- `registration_month`: from the website\n",
        "- `registration_year`: from the website\n",
        "```\n",
        "\n",
        "Right now, the `date_crawled`, `last_seen`, and `ad_created` columns are all identified as string values by pandas. Because these three columns are represented as strings, we need to convert the data into a numerical representation so we can understand it quantitatively. \n",
        "\n",
        "The other two columns are represented as numeric values, so we can use methods like `Series.describe()` to understand the distribution without any extra data processing.\n",
        "\n",
        "The values in the three string columns are formatted as the following timestamp values:\n",
        "\n"
      ]
    },
    {
      "cell_type": "code",
      "metadata": {
        "id": "0L1fG3HuDMhs",
        "colab_type": "code",
        "colab": {
          "base_uri": "https://localhost:8080/",
          "height": 197
        },
        "outputId": "c3ad0067-d68c-4c93-bfb5-7e44e4cb34fb"
      },
      "source": [
        "autos[['date_crawled','ad_created','last_seen']][0:5]"
      ],
      "execution_count": null,
      "outputs": [
        {
          "output_type": "execute_result",
          "data": {
            "text/html": [
              "<div>\n",
              "<style scoped>\n",
              "    .dataframe tbody tr th:only-of-type {\n",
              "        vertical-align: middle;\n",
              "    }\n",
              "\n",
              "    .dataframe tbody tr th {\n",
              "        vertical-align: top;\n",
              "    }\n",
              "\n",
              "    .dataframe thead th {\n",
              "        text-align: right;\n",
              "    }\n",
              "</style>\n",
              "<table border=\"1\" class=\"dataframe\">\n",
              "  <thead>\n",
              "    <tr style=\"text-align: right;\">\n",
              "      <th></th>\n",
              "      <th>date_crawled</th>\n",
              "      <th>ad_created</th>\n",
              "      <th>last_seen</th>\n",
              "    </tr>\n",
              "  </thead>\n",
              "  <tbody>\n",
              "    <tr>\n",
              "      <th>0</th>\n",
              "      <td>2016-03-26 17:47:46</td>\n",
              "      <td>2016-03-26 00:00:00</td>\n",
              "      <td>2016-04-06 06:45:54</td>\n",
              "    </tr>\n",
              "    <tr>\n",
              "      <th>1</th>\n",
              "      <td>2016-04-04 13:38:56</td>\n",
              "      <td>2016-04-04 00:00:00</td>\n",
              "      <td>2016-04-06 14:45:08</td>\n",
              "    </tr>\n",
              "    <tr>\n",
              "      <th>2</th>\n",
              "      <td>2016-03-26 18:57:24</td>\n",
              "      <td>2016-03-26 00:00:00</td>\n",
              "      <td>2016-04-06 20:15:37</td>\n",
              "    </tr>\n",
              "    <tr>\n",
              "      <th>3</th>\n",
              "      <td>2016-03-12 16:58:10</td>\n",
              "      <td>2016-03-12 00:00:00</td>\n",
              "      <td>2016-03-15 03:16:28</td>\n",
              "    </tr>\n",
              "    <tr>\n",
              "      <th>4</th>\n",
              "      <td>2016-04-01 14:38:50</td>\n",
              "      <td>2016-04-01 00:00:00</td>\n",
              "      <td>2016-04-01 14:38:50</td>\n",
              "    </tr>\n",
              "  </tbody>\n",
              "</table>\n",
              "</div>"
            ],
            "text/plain": [
              "          date_crawled           ad_created            last_seen\n",
              "0  2016-03-26 17:47:46  2016-03-26 00:00:00  2016-04-06 06:45:54\n",
              "1  2016-04-04 13:38:56  2016-04-04 00:00:00  2016-04-06 14:45:08\n",
              "2  2016-03-26 18:57:24  2016-03-26 00:00:00  2016-04-06 20:15:37\n",
              "3  2016-03-12 16:58:10  2016-03-12 00:00:00  2016-03-15 03:16:28\n",
              "4  2016-04-01 14:38:50  2016-04-01 00:00:00  2016-04-01 14:38:50"
            ]
          },
          "metadata": {
            "tags": []
          },
          "execution_count": 28
        }
      ]
    },
    {
      "cell_type": "markdown",
      "metadata": {
        "id": "6_hTXbF6DRY-",
        "colab_type": "text"
      },
      "source": [
        "The first 10 characters represent the day (e.g. `2016-03-12`). To understand the date range, we can extract just the date values, then use `Series.value_counts()` to generate a distribution, and then sort by the index."
      ]
    },
    {
      "cell_type": "markdown",
      "metadata": {
        "id": "EhIXQeO9DEPF",
        "colab_type": "text"
      },
      "source": [
        "### **Date Crawled Observations** "
      ]
    },
    {
      "cell_type": "code",
      "metadata": {
        "id": "gMoY4v-NDXFw",
        "colab_type": "code",
        "colab": {
          "base_uri": "https://localhost:8080/",
          "height": 638
        },
        "outputId": "4e330c96-b6d3-4c36-8db6-111ab2cac01a"
      },
      "source": [
        "# Explore the distribution of the dates on which the ads were crawled\n",
        "print(autos[\"date_crawled\"]\n",
        "      .str[:10]\n",
        "      .value_counts(normalize=True, dropna=False)\n",
        "      .sort_index()\n",
        "      )"
      ],
      "execution_count": null,
      "outputs": [
        {
          "output_type": "stream",
          "text": [
            "2016-03-05    0.025567\n",
            "2016-03-06    0.014125\n",
            "2016-03-07    0.036189\n",
            "2016-03-08    0.033173\n",
            "2016-03-09    0.032907\n",
            "2016-03-10    0.032707\n",
            "2016-03-11    0.033018\n",
            "2016-03-12    0.037320\n",
            "2016-03-13    0.015522\n",
            "2016-03-14    0.036300\n",
            "2016-03-15    0.034016\n",
            "2016-03-16    0.029359\n",
            "2016-03-17    0.031155\n",
            "2016-03-18    0.012883\n",
            "2016-03-19    0.034747\n",
            "2016-03-20    0.038073\n",
            "2016-03-21    0.037741\n",
            "2016-03-22    0.033018\n",
            "2016-03-23    0.032397\n",
            "2016-03-24    0.028982\n",
            "2016-03-25    0.031089\n",
            "2016-03-26    0.032641\n",
            "2016-03-27    0.031177\n",
            "2016-03-28    0.034836\n",
            "2016-03-29    0.033262\n",
            "2016-03-30    0.033328\n",
            "2016-03-31    0.031665\n",
            "2016-04-01    0.033905\n",
            "2016-04-02    0.035767\n",
            "2016-04-03    0.038827\n",
            "2016-04-04    0.036610\n",
            "2016-04-05    0.013172\n",
            "2016-04-06    0.003171\n",
            "2016-04-07    0.001353\n",
            "Name: date_crawled, dtype: float64\n"
          ],
          "name": "stdout"
        }
      ]
    },
    {
      "cell_type": "markdown",
      "metadata": {
        "id": "YP123uxo7kRS",
        "colab_type": "text"
      },
      "source": [
        "The data has been **crawled between 03-05-2016 and 04-07-2016 which is roughly one month.** Looking at the percent distribution, most values look to be around three percent with a few days around one percent. I don't see an overweighting on one day which could skew results."
      ]
    },
    {
      "cell_type": "markdown",
      "metadata": {
        "id": "U7SJNP4_DIGk",
        "colab_type": "text"
      },
      "source": [
        "### **Ad Created Observations** "
      ]
    },
    {
      "cell_type": "code",
      "metadata": {
        "id": "jJdEpHXpjbDj",
        "colab_type": "code",
        "colab": {
          "base_uri": "https://localhost:8080/",
          "height": 230
        },
        "outputId": "d2841c16-d35c-4435-e04b-f2a2d1615a05"
      },
      "source": [
        "# Explore the distribution of the dates on which the ads were created\n",
        "print(autos[\"ad_created\"]\n",
        "      .str[:10]\n",
        "      .value_counts(normalize=True, dropna=False)\n",
        "      .sort_index()\n",
        "      )"
      ],
      "execution_count": null,
      "outputs": [
        {
          "output_type": "stream",
          "text": [
            "2015-06-11    0.000022\n",
            "2015-08-10    0.000022\n",
            "2015-09-09    0.000022\n",
            "2015-11-10    0.000022\n",
            "2015-12-05    0.000022\n",
            "                ...   \n",
            "2016-04-03    0.039049\n",
            "2016-04-04    0.036987\n",
            "2016-04-05    0.011908\n",
            "2016-04-06    0.003260\n",
            "2016-04-07    0.001197\n",
            "Name: ad_created, Length: 76, dtype: float64\n"
          ],
          "name": "stdout"
        }
      ]
    },
    {
      "cell_type": "markdown",
      "metadata": {
        "id": "6S_hut-G8Kn6",
        "colab_type": "text"
      },
      "source": [
        "The ads have been **created between 06-11-2015 and 04-07-2016, which covers about 10 months.** There is quiet a big gap in percentages of entries with creation date between december 2015 and april 2016."
      ]
    },
    {
      "cell_type": "markdown",
      "metadata": {
        "id": "GBKMKWwHDLRE",
        "colab_type": "text"
      },
      "source": [
        "### **Last Seen Observations** "
      ]
    },
    {
      "cell_type": "code",
      "metadata": {
        "id": "pksN9n_f9sIM",
        "colab_type": "code",
        "colab": {
          "base_uri": "https://localhost:8080/",
          "height": 638
        },
        "outputId": "7075c382-2bb3-4221-92ee-0cb305040101"
      },
      "source": [
        "# Explore the distribution of the dates on which the ads were seen by the crawler\n",
        "print(autos[\"last_seen\"]\n",
        "      .str[:10].\n",
        "      value_counts(normalize=True, dropna=False)\n",
        "      .sort_index()\n",
        "      )"
      ],
      "execution_count": null,
      "outputs": [
        {
          "output_type": "stream",
          "text": [
            "2016-03-05    0.001087\n",
            "2016-03-06    0.004169\n",
            "2016-03-07    0.005211\n",
            "2016-03-08    0.007007\n",
            "2016-03-09    0.009468\n",
            "2016-03-10    0.010289\n",
            "2016-03-11    0.012041\n",
            "2016-03-12    0.023904\n",
            "2016-03-13    0.008870\n",
            "2016-03-14    0.012285\n",
            "2016-03-15    0.015677\n",
            "2016-03-16    0.016165\n",
            "2016-03-17    0.027674\n",
            "2016-03-18    0.007406\n",
            "2016-03-19    0.015411\n",
            "2016-03-20    0.020423\n",
            "2016-03-21    0.020667\n",
            "2016-03-22    0.021243\n",
            "2016-03-23    0.018405\n",
            "2016-03-24    0.019536\n",
            "2016-03-25    0.018582\n",
            "2016-03-26    0.016476\n",
            "2016-03-27    0.015456\n",
            "2016-03-28    0.020534\n",
            "2016-03-29    0.021354\n",
            "2016-03-30    0.024148\n",
            "2016-03-31    0.023438\n",
            "2016-04-01    0.022862\n",
            "2016-04-02    0.024880\n",
            "2016-04-03    0.024946\n",
            "2016-04-04    0.024303\n",
            "2016-04-05    0.126616\n",
            "2016-04-06    0.225314\n",
            "2016-04-07    0.134155\n",
            "Name: last_seen, dtype: float64\n"
          ],
          "name": "stdout"
        }
      ]
    },
    {
      "cell_type": "markdown",
      "metadata": {
        "id": "TIWjj8oj-A6q",
        "colab_type": "text"
      },
      "source": [
        "The dates for this category follow the same pattern as the `date_crawled` category, and cover roughly **one month between 03-05-2016 and 04-07-2016.** Looking at the percent distribution, most values look to be in a range of 1.5-2.5 percent with a few outliers. There is no overweighting towards certain days which could skew results."
      ]
    },
    {
      "cell_type": "markdown",
      "metadata": {
        "id": "1XHPCmbv08wS",
        "colab_type": "text"
      },
      "source": [
        "![car image](https://files.porsche.com/filestore/galleryimagerwd/multimedia/none/992-carrera-gallery-05/zoom2/570851d7-7eea-11ea-80c9-005056bbdc38;sN;twebp/porsche-zoom2.webp)"
      ]
    },
    {
      "cell_type": "markdown",
      "metadata": {
        "id": "itPJHG4XEpuB",
        "colab_type": "text"
      },
      "source": [
        "## 6. Dealing with Incorrect Car Registration Data"
      ]
    },
    {
      "cell_type": "markdown",
      "metadata": {
        "id": "zQJlIx7e0VvH",
        "colab_type": "text"
      },
      "source": [
        "### **Registration Year analysis**"
      ]
    },
    {
      "cell_type": "markdown",
      "metadata": {
        "id": "Q33mA-jtDTjw",
        "colab_type": "text"
      },
      "source": [
        "Below I explore the descriptive statistics and the distribution of `registration_year` to look for any anomalies or incorrect data."
      ]
    },
    {
      "cell_type": "code",
      "metadata": {
        "id": "TpuAVY9cDT9e",
        "colab_type": "code",
        "colab": {
          "base_uri": "https://localhost:8080/",
          "height": 176
        },
        "outputId": "d1ea5a6e-7548-421e-ff31-53f287944be3"
      },
      "source": [
        "# Check the descriptive statistics for years cars were registered.\n",
        "autos[\"registration_year\"].describe()"
      ],
      "execution_count": null,
      "outputs": [
        {
          "output_type": "execute_result",
          "data": {
            "text/plain": [
              "count    45097.000000\n",
              "mean      2005.064173\n",
              "std         89.652017\n",
              "min       1000.000000\n",
              "25%       2000.000000\n",
              "50%       2004.000000\n",
              "75%       2008.000000\n",
              "max       9999.000000\n",
              "Name: registration_year, dtype: float64"
            ]
          },
          "metadata": {
            "tags": []
          },
          "execution_count": 32
        }
      ]
    },
    {
      "cell_type": "code",
      "metadata": {
        "id": "tbmqBQsgDgsi",
        "colab_type": "code",
        "colab": {
          "base_uri": "https://localhost:8080/",
          "height": 230
        },
        "outputId": "bdd8fdf9-4fd9-4010-bb4e-b5742e160ac8"
      },
      "source": [
        "# Explore the distribution of car registration years\n",
        "print(autos[\"registration_year\"].\n",
        "      value_counts().\n",
        "      sort_index()\n",
        "      )"
      ],
      "execution_count": null,
      "outputs": [
        {
          "output_type": "stream",
          "text": [
            "1000    1\n",
            "1001    1\n",
            "1910    2\n",
            "1927    1\n",
            "1929    1\n",
            "       ..\n",
            "5911    1\n",
            "6200    1\n",
            "8888    1\n",
            "9000    1\n",
            "9999    3\n",
            "Name: registration_year, Length: 93, dtype: int64\n"
          ],
          "name": "stdout"
        }
      ]
    },
    {
      "cell_type": "code",
      "metadata": {
        "id": "42vUujrWE40K",
        "colab_type": "code",
        "colab": {
          "base_uri": "https://localhost:8080/",
          "height": 390
        },
        "outputId": "5f9d15d4-3bc3-4f36-f119-f8ed15f65226"
      },
      "source": [
        "# Explore the higher ranges of the distribution of car registration years\n",
        "print(autos[\"registration_year\"]\n",
        "      .sort_values(ascending= False)\n",
        "      .iloc[:20]\n",
        "      )"
      ],
      "execution_count": null,
      "outputs": [
        {
          "output_type": "stream",
          "text": [
            "38076    9999\n",
            "8012     9999\n",
            "33950    9999\n",
            "49910    9000\n",
            "25003    8888\n",
            "8360     6200\n",
            "27618    5911\n",
            "22799    5000\n",
            "49153    5000\n",
            "42079    4800\n",
            "453      4500\n",
            "4549     4100\n",
            "27578    2800\n",
            "49185    2019\n",
            "19829    2018\n",
            "33581    2018\n",
            "44548    2018\n",
            "18779    2018\n",
            "33566    2018\n",
            "36258    2018\n",
            "Name: registration_year, dtype: int64\n"
          ],
          "name": "stdout"
        }
      ]
    },
    {
      "cell_type": "markdown",
      "metadata": {
        "id": "ZHmOckW0Ggp-",
        "colab_type": "text"
      },
      "source": [
        "### **Registration Year observations**\n",
        "\n",
        "The registration dates show remarkable outliers, ranging from **before 1900 and beyond 2016**, the year in which the data was crawled. Some remarkable examples ar the years 1000, 1001, 8888, and 9999. These are likely to be incorrect entries, for example because the people posting the ads were unsure of the date their vehicle was registered."
      ]
    },
    {
      "cell_type": "markdown",
      "metadata": {
        "id": "JjNtkARS0cR2",
        "colab_type": "text"
      },
      "source": [
        "### **Removing outliers**"
      ]
    },
    {
      "cell_type": "markdown",
      "metadata": {
        "id": "n6u7Vfkw0jL6",
        "colab_type": "text"
      },
      "source": [
        "Following our observations above, we will remove outliers in registration dates from before the year 1900 and beyond 2016."
      ]
    },
    {
      "cell_type": "code",
      "metadata": {
        "id": "vJ6URPj2Ji-P",
        "colab_type": "code",
        "colab": {
          "base_uri": "https://localhost:8080/",
          "height": 34
        },
        "outputId": "cec27a21-d134-4af2-8de8-ebaf1311443c"
      },
      "source": [
        "# Remove the values outside our scope\n",
        "autos = autos[autos[\"registration_year\"].between(1900,2016)]\n",
        "\n",
        "autos.shape"
      ],
      "execution_count": null,
      "outputs": [
        {
          "output_type": "execute_result",
          "data": {
            "text/plain": [
              "(43323, 17)"
            ]
          },
          "metadata": {
            "tags": []
          },
          "execution_count": 35
        }
      ]
    },
    {
      "cell_type": "code",
      "metadata": {
        "id": "IAVxgFZCLZLc",
        "colab_type": "code",
        "colab": {
          "base_uri": "https://localhost:8080/",
          "height": 230
        },
        "outputId": "265ce4e3-8356-4116-8e37-799865281b01"
      },
      "source": [
        "# Explore the distribution of registration years\n",
        "autos[\"registration_year\"].value_counts(normalize= True)"
      ],
      "execution_count": null,
      "outputs": [
        {
          "output_type": "execute_result",
          "data": {
            "text/plain": [
              "2005    0.066108\n",
              "2000    0.062669\n",
              "2004    0.061930\n",
              "2006    0.061538\n",
              "2003    0.061330\n",
              "          ...   \n",
              "1948    0.000023\n",
              "1938    0.000023\n",
              "1939    0.000023\n",
              "1943    0.000023\n",
              "1952    0.000023\n",
              "Name: registration_year, Length: 78, dtype: float64"
            ]
          },
          "metadata": {
            "tags": []
          },
          "execution_count": 36
        }
      ]
    },
    {
      "cell_type": "code",
      "metadata": {
        "id": "d9-yjRNTKcP0",
        "colab_type": "code",
        "colab": {
          "base_uri": "https://localhost:8080/",
          "height": 212
        },
        "outputId": "c60844a8-9710-4b15-b42f-dff3eb35e4de"
      },
      "source": [
        "# Explore the top range in the distribution of registration years\n",
        "autos[\"registration_year\"].value_counts(normalize=True).head(10)"
      ],
      "execution_count": null,
      "outputs": [
        {
          "output_type": "execute_result",
          "data": {
            "text/plain": [
              "2005    0.066108\n",
              "2000    0.062669\n",
              "2004    0.061930\n",
              "2006    0.061538\n",
              "2003    0.061330\n",
              "1999    0.059368\n",
              "2001    0.058168\n",
              "2002    0.055836\n",
              "2007    0.052397\n",
              "2008    0.050920\n",
              "Name: registration_year, dtype: float64"
            ]
          },
          "metadata": {
            "tags": []
          },
          "execution_count": 37
        }
      ]
    },
    {
      "cell_type": "markdown",
      "metadata": {
        "id": "7YBQlmCkI-aQ",
        "colab_type": "text"
      },
      "source": [
        "It turns out that **most vehicles were registered in early 2000's.**"
      ]
    },
    {
      "cell_type": "markdown",
      "metadata": {
        "id": "_tRCsdm11J1u",
        "colab_type": "text"
      },
      "source": [
        "### **Registration Month analysis**"
      ]
    },
    {
      "cell_type": "markdown",
      "metadata": {
        "id": "7jFvHYIn1Iyg",
        "colab_type": "text"
      },
      "source": [
        "Now we check the month in which the cars were registered. As mentioned earlier, the min value is 0."
      ]
    },
    {
      "cell_type": "code",
      "metadata": {
        "id": "pzQ9OuHGK9rH",
        "colab_type": "code",
        "colab": {
          "base_uri": "https://localhost:8080/",
          "height": 265
        },
        "outputId": "b80a6a21-3c02-4732-95af-511f82aaa88f"
      },
      "source": [
        "# Explore the distribution of months of registration\n",
        "autos[\"registration_month\"].value_counts()"
      ],
      "execution_count": null,
      "outputs": [
        {
          "output_type": "execute_result",
          "data": {
            "text/plain": [
              "3     4543\n",
              "6     3901\n",
              "4     3670\n",
              "5     3669\n",
              "7     3531\n",
              "10    3322\n",
              "9     3106\n",
              "11    3094\n",
              "12    3080\n",
              "0     2973\n",
              "1     2895\n",
              "8     2851\n",
              "2     2688\n",
              "Name: registration_month, dtype: int64"
            ]
          },
          "metadata": {
            "tags": []
          },
          "execution_count": 38
        }
      ]
    },
    {
      "cell_type": "markdown",
      "metadata": {
        "id": "Mt2XrkPz1b75",
        "colab_type": "text"
      },
      "source": [
        "### **Registration Month observations**"
      ]
    },
    {
      "cell_type": "markdown",
      "metadata": {
        "id": "wmoha-1kKj8Y",
        "colab_type": "text"
      },
      "source": [
        "Around 3000 of the entries are registered in the month 0, which is an illegitimate month. If we want to be able to obtain make accurate statements about the months in which cars were registered, we have to remove the 0 entries from our dataset. "
      ]
    },
    {
      "cell_type": "markdown",
      "metadata": {
        "id": "Z3daP-4b1hcI",
        "colab_type": "text"
      },
      "source": [
        "### **Removing outliers**"
      ]
    },
    {
      "cell_type": "code",
      "metadata": {
        "id": "zwcn1e9EMBKG",
        "colab_type": "code",
        "colab": {
          "base_uri": "https://localhost:8080/",
          "height": 247
        },
        "outputId": "c4f43044-fee9-4382-e8f8-6d020c1193ca"
      },
      "source": [
        "# Remove the value of month \"0\" out of the dataset\n",
        "autos = autos[~(autos[\"registration_month\"] == 0)]\n",
        "\n",
        "# Explore the distribution of months of registration after removing month \"0\"\n",
        "autos[\"registration_month\"].value_counts()"
      ],
      "execution_count": null,
      "outputs": [
        {
          "output_type": "execute_result",
          "data": {
            "text/plain": [
              "3     4543\n",
              "6     3901\n",
              "4     3670\n",
              "5     3669\n",
              "7     3531\n",
              "10    3322\n",
              "9     3106\n",
              "11    3094\n",
              "12    3080\n",
              "1     2895\n",
              "8     2851\n",
              "2     2688\n",
              "Name: registration_month, dtype: int64"
            ]
          },
          "metadata": {
            "tags": []
          },
          "execution_count": 39
        }
      ]
    },
    {
      "cell_type": "code",
      "metadata": {
        "id": "5UvCkeO4MlQP",
        "colab_type": "code",
        "colab": {
          "base_uri": "https://localhost:8080/",
          "height": 34
        },
        "outputId": "49e39428-476e-42a2-eefc-fcd5004d5494"
      },
      "source": [
        "# Explore the dimensionsx of the dataframe\n",
        "autos.shape"
      ],
      "execution_count": null,
      "outputs": [
        {
          "output_type": "execute_result",
          "data": {
            "text/plain": [
              "(40350, 17)"
            ]
          },
          "metadata": {
            "tags": []
          },
          "execution_count": 40
        }
      ]
    },
    {
      "cell_type": "markdown",
      "metadata": {
        "id": "C3PL7EX3MnMq",
        "colab_type": "text"
      },
      "source": [
        "After removing entries with unrealistic registration dates **we are left with 40,350 records in our dataset.** This is 80,7% of the original dataset and still a substantial amount of data to be able to draw representative conclusions for the German second hand car market."
      ]
    },
    {
      "cell_type": "markdown",
      "metadata": {
        "id": "ObNg2ooTEpyy",
        "colab_type": "text"
      },
      "source": [
        "## 7. Exploring Price by Brand"
      ]
    },
    {
      "cell_type": "markdown",
      "metadata": {
        "id": "yRSyp4QuEp1a",
        "colab_type": "text"
      },
      "source": [
        "Now that we have cleaned the data. let's continue our analysis by looking at all the brands in the dataset and determine the top 5 brands in Germany, together with their mean prices."
      ]
    },
    {
      "cell_type": "code",
      "metadata": {
        "id": "Kfg9TRB2QbKI",
        "colab_type": "code",
        "colab": {
          "base_uri": "https://localhost:8080/",
          "height": 745
        },
        "outputId": "d8df3b3f-e4f8-4573-853d-b229968b1f27"
      },
      "source": [
        "autos[\"brand\"].value_counts(normalize= True)"
      ],
      "execution_count": null,
      "outputs": [
        {
          "output_type": "execute_result",
          "data": {
            "text/plain": [
              "volkswagen       0.209021\n",
              "bmw              0.115985\n",
              "mercedes_benz    0.104238\n",
              "opel             0.098414\n",
              "audi             0.091202\n",
              "ford             0.064709\n",
              "renault          0.043841\n",
              "peugeot          0.029492\n",
              "fiat             0.023519\n",
              "seat             0.017943\n",
              "skoda            0.017596\n",
              "smart            0.015217\n",
              "nissan           0.015192\n",
              "mazda            0.014696\n",
              "citroen          0.013903\n",
              "toyota           0.013829\n",
              "hyundai          0.010409\n",
              "mini             0.009839\n",
              "volvo            0.009517\n",
              "other            0.009368\n",
              "honda            0.007782\n",
              "mitsubishi       0.007658\n",
              "kia              0.007658\n",
              "porsche          0.006691\n",
              "alfa_romeo       0.006592\n",
              "chevrolet        0.006047\n",
              "suzuki           0.005998\n",
              "chrysler         0.003494\n",
              "dacia            0.002924\n",
              "jeep             0.002503\n",
              "land_rover       0.002305\n",
              "daihatsu         0.002057\n",
              "subaru           0.001884\n",
              "saab             0.001685\n",
              "jaguar           0.001660\n",
              "daewoo           0.001363\n",
              "rover            0.001264\n",
              "trabant          0.000991\n",
              "lancia           0.000967\n",
              "lada             0.000545\n",
              "Name: brand, dtype: float64"
            ]
          },
          "metadata": {
            "tags": []
          },
          "execution_count": 41
        }
      ]
    },
    {
      "cell_type": "markdown",
      "metadata": {
        "id": "0s3FoV9X3TqL",
        "colab_type": "text"
      },
      "source": [
        "![car image](https://files.porsche.com/filestore/galleryimagerwd/multimedia/none/modelseries-911carrera992-indoor-01/zoom2/84da3d18-e75c-11e8-bec8-0019999cd470;sN;twebp/porsche-zoom2.webp)"
      ]
    },
    {
      "cell_type": "markdown",
      "metadata": {
        "id": "9lnWs1y2ddr-",
        "colab_type": "text"
      },
      "source": [
        "### Most popular brands in Germany"
      ]
    },
    {
      "cell_type": "markdown",
      "metadata": {
        "id": "UCXHUgxcUEV0",
        "colab_type": "text"
      },
      "source": [
        "**Volkswagen is clearly the most popular brand** in the German second hand car market, with over 20% market share on eBay. **BMW is second with 11,6%, followed by Mercedes with 10,4%. Opel counts for 9,8% and Audi has a market share of 9,1%**. The brand we are specifically interested in, **Porsche, has a much smaller share: 0,67% of our dataset**."
      ]
    },
    {
      "cell_type": "code",
      "metadata": {
        "id": "efKDrVrqZ3xi",
        "colab_type": "code",
        "colab": {
          "base_uri": "https://localhost:8080/",
          "height": 123
        },
        "outputId": "829fc92d-b519-4776-a317-3f87b9fd10be"
      },
      "source": [
        "# Explore the amounts of ads for our top 5 brands\n",
        "autos[\"brand\"].value_counts()[:5]"
      ],
      "execution_count": null,
      "outputs": [
        {
          "output_type": "execute_result",
          "data": {
            "text/plain": [
              "volkswagen       8434\n",
              "bmw              4680\n",
              "mercedes_benz    4206\n",
              "opel             3971\n",
              "audi             3680\n",
              "Name: brand, dtype: int64"
            ]
          },
          "metadata": {
            "tags": []
          },
          "execution_count": 42
        }
      ]
    },
    {
      "cell_type": "code",
      "metadata": {
        "id": "1_mBLJG1aVoO",
        "colab_type": "code",
        "colab": {
          "base_uri": "https://localhost:8080/",
          "height": 34
        },
        "outputId": "a153c070-b9f4-4de7-def3-d1b48032c7e0"
      },
      "source": [
        "# Explore the amounts of ads for our favourite brand Porsche\n",
        "autos[\"brand\"].value_counts()[\"porsche\"]"
      ],
      "execution_count": null,
      "outputs": [
        {
          "output_type": "execute_result",
          "data": {
            "text/plain": [
              "270"
            ]
          },
          "metadata": {
            "tags": []
          },
          "execution_count": 43
        }
      ]
    },
    {
      "cell_type": "markdown",
      "metadata": {
        "id": "WtAwCgpJdkQ9",
        "colab_type": "text"
      },
      "source": [
        "There is a substantially lower amount of Porsches on the German second hand car market, in comparison to the top brands. Our dataset counts **270 instances**. In comparison, the other **top 4 German car brands together have nearly 25,000 ads** in our dataset."
      ]
    },
    {
      "cell_type": "markdown",
      "metadata": {
        "id": "i9balieCavh4",
        "colab_type": "text"
      },
      "source": [
        "### **Calculate the mean values for the top 5 car brands.**"
      ]
    },
    {
      "cell_type": "code",
      "metadata": {
        "id": "u3gVTAk6ZYjv",
        "colab_type": "code",
        "colab": {
          "base_uri": "https://localhost:8080/",
          "height": 227
        },
        "outputId": "a7e9199d-91da-45b2-e2f9-6593e320c432"
      },
      "source": [
        "# Select the top 5 German car brands\n",
        "top_brands = [\"volkswagen\", \"bmw\", \"mercedes_benz\", \"audi\", \"porsche\"]\n",
        "\n",
        "# pass the above variable into autos to select only those records from the data frame \n",
        "mean_price = autos.loc[autos['brand'].isin(top_brands)]\n",
        "\n",
        "# create variable that calculates the mean of the data fr ame\n",
        "selected = mean_price.groupby(['brand']).mean().round(decimals=0)\n",
        "\n",
        "# execute selected to see the mean results selected\n",
        "selected.sort_values(\"price_usd\")"
      ],
      "execution_count": null,
      "outputs": [
        {
          "output_type": "execute_result",
          "data": {
            "text/html": [
              "<div>\n",
              "<style scoped>\n",
              "    .dataframe tbody tr th:only-of-type {\n",
              "        vertical-align: middle;\n",
              "    }\n",
              "\n",
              "    .dataframe tbody tr th {\n",
              "        vertical-align: top;\n",
              "    }\n",
              "\n",
              "    .dataframe thead th {\n",
              "        text-align: right;\n",
              "    }\n",
              "</style>\n",
              "<table border=\"1\" class=\"dataframe\">\n",
              "  <thead>\n",
              "    <tr style=\"text-align: right;\">\n",
              "      <th></th>\n",
              "      <th>price_usd</th>\n",
              "      <th>registration_year</th>\n",
              "      <th>power_bhp</th>\n",
              "      <th>odometer_km</th>\n",
              "      <th>registration_month</th>\n",
              "      <th>postal_code</th>\n",
              "    </tr>\n",
              "    <tr>\n",
              "      <th>brand</th>\n",
              "      <th></th>\n",
              "      <th></th>\n",
              "      <th></th>\n",
              "      <th></th>\n",
              "      <th></th>\n",
              "      <th></th>\n",
              "    </tr>\n",
              "  </thead>\n",
              "  <tbody>\n",
              "    <tr>\n",
              "      <th>volkswagen</th>\n",
              "      <td>6043.0</td>\n",
              "      <td>2003.0</td>\n",
              "      <td>105.0</td>\n",
              "      <td>127677.0</td>\n",
              "      <td>6.0</td>\n",
              "      <td>50001.0</td>\n",
              "    </tr>\n",
              "    <tr>\n",
              "      <th>bmw</th>\n",
              "      <td>8828.0</td>\n",
              "      <td>2003.0</td>\n",
              "      <td>173.0</td>\n",
              "      <td>132481.0</td>\n",
              "      <td>6.0</td>\n",
              "      <td>55435.0</td>\n",
              "    </tr>\n",
              "    <tr>\n",
              "      <th>mercedes_benz</th>\n",
              "      <td>8981.0</td>\n",
              "      <td>2002.0</td>\n",
              "      <td>157.0</td>\n",
              "      <td>130804.0</td>\n",
              "      <td>6.0</td>\n",
              "      <td>51626.0</td>\n",
              "    </tr>\n",
              "    <tr>\n",
              "      <th>audi</th>\n",
              "      <td>9969.0</td>\n",
              "      <td>2005.0</td>\n",
              "      <td>166.0</td>\n",
              "      <td>128221.0</td>\n",
              "      <td>7.0</td>\n",
              "      <td>55096.0</td>\n",
              "    </tr>\n",
              "    <tr>\n",
              "      <th>porsche</th>\n",
              "      <td>48008.0</td>\n",
              "      <td>2002.0</td>\n",
              "      <td>301.0</td>\n",
              "      <td>98648.0</td>\n",
              "      <td>6.0</td>\n",
              "      <td>57519.0</td>\n",
              "    </tr>\n",
              "  </tbody>\n",
              "</table>\n",
              "</div>"
            ],
            "text/plain": [
              "               price_usd  registration_year  ...  registration_month  postal_code\n",
              "brand                                        ...                                 \n",
              "volkswagen        6043.0             2003.0  ...                 6.0      50001.0\n",
              "bmw               8828.0             2003.0  ...                 6.0      55435.0\n",
              "mercedes_benz     8981.0             2002.0  ...                 6.0      51626.0\n",
              "audi              9969.0             2005.0  ...                 7.0      55096.0\n",
              "porsche          48008.0             2002.0  ...                 6.0      57519.0\n",
              "\n",
              "[5 rows x 6 columns]"
            ]
          },
          "metadata": {
            "tags": []
          },
          "execution_count": 44
        }
      ]
    },
    {
      "cell_type": "markdown",
      "metadata": {
        "id": "9r2sL3vtdu6J",
        "colab_type": "text"
      },
      "source": [
        "### **Comparing German Top Brands**\n",
        "\n",
        "**Volkswagen** is on average the best priced German-made car, at a price of about **USD 6000**. **BMW and Mercedes** follow with an average price of almost **USD 9000.** Theses 3 brands in our dataset were registered at around the same time (**mid-2002 and mid-2003**) and also have about the same mileage of around **130,000 km**. BMW does stand out in horsepower, with an average of 173 BHP versus 105 BHP from Volkswagen. \n",
        "\n",
        "**Audi** is the more expensive mid-range German brand, with an average price of almost **USD 10,000** in this dataset. This may have to do with the younger age of the cars, which are on average from **2005**. The mileage of the Audis is about the same as the other 3 brands, which can indicate that Audi drivers make more mileage per year. A possible reason for this could be that **Audis are more popular as a corporate lease car** and therefore used more intesively.\n",
        "\n",
        "It is interesting to compare the results for **Porsche** to the other 4 German car brands. Porsche is (unsurprisingly) about 5-8 times more expensive than the other brands, with an average price of **USD 48,000**. My favourite sports car is also much more powerful, with an **average of 300 BHP** which is about 2-3 times higher that the mid-range cars. The average mileage is lower than the other 4 brands, at around 100,000 km. This might suggest that Porsche is **more of a leisure car than an everyday commuting vehicle**."
      ]
    },
    {
      "cell_type": "markdown",
      "metadata": {
        "id": "aE85cU4D91db",
        "colab_type": "text"
      },
      "source": [
        "### **Further avenues for research**"
      ]
    },
    {
      "cell_type": "markdown",
      "metadata": {
        "id": "kQdznVih96zW",
        "colab_type": "text"
      },
      "source": [
        "- Clean the `power_bhp` column and compare the ranges between brands\n",
        "- Compare various models per brand\n",
        "- Measure the cost of damage to similar cars\n",
        "- Move Data Exploration Findings to table\n",
        "- Analyse postcodes: most values for zip codes are:\n",
        "\t- 10115, 65428, 66333, 45888, 44145\n",
        "- Check NaN values across various columns\n",
        "\n",
        "Moving forward in my learning journey on DataQuest.io, I intend to continuesly apply my newly gained skills to this analysis.\n"
      ]
    },
    {
      "cell_type": "markdown",
      "metadata": {
        "id": "6IlEQJj4xsiS",
        "colab_type": "text"
      },
      "source": [
        "![car image](https://files.porsche.com/filestore/galleryimagerwd/multimedia/none/modelseries-911carrera992-details-06/zoom2/99cad962-e75a-11e8-bec8-0019999cd470;sN;twebp/porsche-zoom2.webp)\n"
      ]
    },
    {
      "cell_type": "markdown",
      "metadata": {
        "id": "fEIxXElR9sci",
        "colab_type": "text"
      },
      "source": [
        "# **Appendix**"
      ]
    },
    {
      "cell_type": "markdown",
      "metadata": {
        "id": "OpaNwMmAEp4G",
        "colab_type": "text"
      },
      "source": [
        "## Storing Aggregate Data in a DataFrame"
      ]
    },
    {
      "cell_type": "markdown",
      "metadata": {
        "id": "ovKrAEJdzFmH",
        "colab_type": "text"
      },
      "source": [
        "For further practice, I want to apply another method to get an overview of mean prices versus mean mileage, by using a for loop. I will use aggregation to understand the average mileage for the top cars and if there's any visible link with mean price. \n",
        "\n",
        "While our natural instinct may be to display both aggregated series objects and visually compare them, this has a few limitations:\n",
        "- it's difficult to compare more than two aggregate series objects if we want to extend to more columns\n",
        "- we can't compare more than a few rows from each series object\n",
        "- we can only sort by the index (brand name) of both series objects so we can easily make visual comparisons\n",
        "\n",
        "Instead, we can combine the data from both series objects into a single dataframe (with a shared index) and display the dataframe directly. To do this we can apply two pandas methods:\n",
        "\n",
        "- [pandas series constructor](https://pandas.pydata.org/pandas-docs/stable/generated/pandas.Series.html)\n",
        "- [pandas dataframe constructor](https://pandas.pydata.org/pandas-docs/stable/generated/pandas.DataFrame.html)\n",
        "\n",
        "First, let's get the mean prices and mean mileage using a for loop."
      ]
    },
    {
      "cell_type": "code",
      "metadata": {
        "id": "G7QLyktaET5c",
        "colab_type": "code",
        "colab": {
          "base_uri": "https://localhost:8080/",
          "height": 105
        },
        "outputId": "704e00ee-bafe-4f81-8d17-e4345a986d43"
      },
      "source": [
        "# Create an empty dictionary in which to store the average prices per car brand\n",
        "mean_car_prices = {}\n",
        "\n",
        "# Loop through the top 5 German car brands to obtain the average prices and add them to the dictionary mean_car_prices\n",
        "for brand in top_brands:\n",
        "    car_brand = autos[autos[\"brand\"] == brand]\n",
        "    mean_price = car_brand[\"price_usd\"].mean()\n",
        "    mean_car_prices[brand] = int(mean_price)\n",
        "\n",
        "# Show the mean_car_prices dictionary\n",
        "mean_car_prices"
      ],
      "execution_count": null,
      "outputs": [
        {
          "output_type": "execute_result",
          "data": {
            "text/plain": [
              "{'audi': 9969,\n",
              " 'bmw': 8827,\n",
              " 'mercedes_benz': 8981,\n",
              " 'porsche': 48008,\n",
              " 'volkswagen': 6043}"
            ]
          },
          "metadata": {
            "tags": []
          },
          "execution_count": 45
        }
      ]
    },
    {
      "cell_type": "markdown",
      "metadata": {
        "id": "GvcDttMBEYFr",
        "colab_type": "text"
      },
      "source": [
        "These numbers are the same as in the previous chapter. Now let's find out the mean mileage for these cars:"
      ]
    },
    {
      "cell_type": "code",
      "metadata": {
        "id": "Omj8zvXleSJd",
        "colab_type": "code",
        "colab": {
          "base_uri": "https://localhost:8080/",
          "height": 105
        },
        "outputId": "0d044278-46a5-4ee1-db78-319cc6b33ca4"
      },
      "source": [
        "# Create an empty dictionary in which to store the average mileage per car brand\n",
        "mean_car_mileage = {}\n",
        "\n",
        "# Loop through the top 5 German car brands to obtain the average mileage and add them to the dictionary mean_car_mileage\n",
        "for brand in top_brands:\n",
        "    car_brand = autos[autos[\"brand\"] == brand]\n",
        "    mean_mileage = car_brand[\"odometer_km\"].mean()\n",
        "    mean_car_mileage[brand] = int(mean_mileage)\n",
        "\n",
        "# Show the mean_car_prices dictionary\n",
        "mean_car_mileage"
      ],
      "execution_count": null,
      "outputs": [
        {
          "output_type": "execute_result",
          "data": {
            "text/plain": [
              "{'audi': 128221,\n",
              " 'bmw': 132480,\n",
              " 'mercedes_benz': 130803,\n",
              " 'porsche': 98648,\n",
              " 'volkswagen': 127676}"
            ]
          },
          "metadata": {
            "tags": []
          },
          "execution_count": 46
        }
      ]
    },
    {
      "cell_type": "code",
      "metadata": {
        "id": "P9BHnjvYEVLt",
        "colab_type": "code",
        "colab": {
          "base_uri": "https://localhost:8080/",
          "height": 197
        },
        "outputId": "790bc870-ded4-4c32-b63e-f18beca95876"
      },
      "source": [
        "average_mileage = pd.Series(mean_car_mileage).sort_values(ascending= False)\n",
        "average_prices = pd.Series(mean_car_prices).sort_values(ascending= False)\n",
        "\n",
        "brand_averages = pd.DataFrame(average_mileage, columns=['average_mileage'])\n",
        "brand_averages[\"average_prices\"] = average_prices\n",
        "brand_averages"
      ],
      "execution_count": null,
      "outputs": [
        {
          "output_type": "execute_result",
          "data": {
            "text/html": [
              "<div>\n",
              "<style scoped>\n",
              "    .dataframe tbody tr th:only-of-type {\n",
              "        vertical-align: middle;\n",
              "    }\n",
              "\n",
              "    .dataframe tbody tr th {\n",
              "        vertical-align: top;\n",
              "    }\n",
              "\n",
              "    .dataframe thead th {\n",
              "        text-align: right;\n",
              "    }\n",
              "</style>\n",
              "<table border=\"1\" class=\"dataframe\">\n",
              "  <thead>\n",
              "    <tr style=\"text-align: right;\">\n",
              "      <th></th>\n",
              "      <th>average_mileage</th>\n",
              "      <th>average_prices</th>\n",
              "    </tr>\n",
              "  </thead>\n",
              "  <tbody>\n",
              "    <tr>\n",
              "      <th>bmw</th>\n",
              "      <td>132480</td>\n",
              "      <td>8827</td>\n",
              "    </tr>\n",
              "    <tr>\n",
              "      <th>mercedes_benz</th>\n",
              "      <td>130803</td>\n",
              "      <td>8981</td>\n",
              "    </tr>\n",
              "    <tr>\n",
              "      <th>audi</th>\n",
              "      <td>128221</td>\n",
              "      <td>9969</td>\n",
              "    </tr>\n",
              "    <tr>\n",
              "      <th>volkswagen</th>\n",
              "      <td>127676</td>\n",
              "      <td>6043</td>\n",
              "    </tr>\n",
              "    <tr>\n",
              "      <th>porsche</th>\n",
              "      <td>98648</td>\n",
              "      <td>48008</td>\n",
              "    </tr>\n",
              "  </tbody>\n",
              "</table>\n",
              "</div>"
            ],
            "text/plain": [
              "               average_mileage  average_prices\n",
              "bmw                     132480            8827\n",
              "mercedes_benz           130803            8981\n",
              "audi                    128221            9969\n",
              "volkswagen              127676            6043\n",
              "porsche                  98648           48008"
            ]
          },
          "metadata": {
            "tags": []
          },
          "execution_count": 47
        }
      ]
    },
    {
      "cell_type": "markdown",
      "metadata": {
        "id": "VV3jnL-wwFvf",
        "colab_type": "text"
      },
      "source": [
        "Comparing German Top Brands we can draw the same conclusions as in the final chapter of this notebook.\n",
        "\n",
        "---\n",
        "\n"
      ]
    }
  ]
}
