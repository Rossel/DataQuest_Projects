{
  "nbformat": 4,
  "nbformat_minor": 0,
  "metadata": {
    "colab": {
      "name": "Guided Project 03: Exploring Ebay Car Sales Data.ipynb",
      "provenance": [],
      "authorship_tag": "ABX9TyNwhayYZ++SqbMt1L1GWJLL",
      "include_colab_link": true
    },
    "kernelspec": {
      "name": "python3",
      "display_name": "Python 3"
    }
  },
  "cells": [
    {
      "cell_type": "markdown",
      "metadata": {
        "id": "view-in-github",
        "colab_type": "text"
      },
      "source": [
        "<a href=\"https://colab.research.google.com/github/Rossel/DataQuest_Projects/blob/master/Guided_Project_03_Exploring_Ebay_Car_Sales_Data.ipynb\" target=\"_parent\"><img src=\"https://colab.research.google.com/assets/colab-badge.svg\" alt=\"Open In Colab\"/></a>"
      ]
    },
    {
      "cell_type": "markdown",
      "metadata": {
        "id": "Wyme_OK2EpF7",
        "colab_type": "text"
      },
      "source": [
        "# Guided Project: Exploring Ebay Car Sales Data\n",
        "\n",
        "*Practice data cleaning and data explorationg using pandas*"
      ]
    },
    {
      "cell_type": "markdown",
      "metadata": {
        "id": "h60lAEbyEpVE",
        "colab_type": "text"
      },
      "source": [
        "## 1. Introduction"
      ]
    },
    {
      "cell_type": "markdown",
      "metadata": {
        "id": "wUZsB_koEpYB",
        "colab_type": "text"
      },
      "source": [
        "This project is still a work in progress. More will follow soon!"
      ]
    },
    {
      "cell_type": "markdown",
      "metadata": {
        "id": "oOJOD1Y0EpaW",
        "colab_type": "text"
      },
      "source": [
        "## 2. Cleaning Column Names"
      ]
    },
    {
      "cell_type": "markdown",
      "metadata": {
        "id": "FVx48i_ZEpc3",
        "colab_type": "text"
      },
      "source": [
        ""
      ]
    },
    {
      "cell_type": "markdown",
      "metadata": {
        "id": "kvyDdJmZEpfc",
        "colab_type": "text"
      },
      "source": [
        "## 3. Initial Exploration and Cleaning"
      ]
    },
    {
      "cell_type": "markdown",
      "metadata": {
        "id": "BKwZuP0fEphm",
        "colab_type": "text"
      },
      "source": [
        ""
      ]
    },
    {
      "cell_type": "markdown",
      "metadata": {
        "id": "2-ZQnskhEpkL",
        "colab_type": "text"
      },
      "source": [
        "## 4. Exploring the Odometer and Price Columns"
      ]
    },
    {
      "cell_type": "markdown",
      "metadata": {
        "id": "p-OBA7FFEpmd",
        "colab_type": "text"
      },
      "source": [
        ""
      ]
    },
    {
      "cell_type": "markdown",
      "metadata": {
        "id": "_PfkEQRXEpo5",
        "colab_type": "text"
      },
      "source": [
        "## 5. Exploring the date columns"
      ]
    },
    {
      "cell_type": "markdown",
      "metadata": {
        "id": "bOEu78VxEprb",
        "colab_type": "text"
      },
      "source": [
        ""
      ]
    },
    {
      "cell_type": "markdown",
      "metadata": {
        "id": "itPJHG4XEpuB",
        "colab_type": "text"
      },
      "source": [
        "## 6. Dealing with Incorrect Registration Year Data"
      ]
    },
    {
      "cell_type": "markdown",
      "metadata": {
        "id": "Ep0oz1MKEpwf",
        "colab_type": "text"
      },
      "source": [
        ""
      ]
    },
    {
      "cell_type": "markdown",
      "metadata": {
        "id": "ObNg2ooTEpyy",
        "colab_type": "text"
      },
      "source": [
        "## 7. Exploring Price by Brand"
      ]
    },
    {
      "cell_type": "markdown",
      "metadata": {
        "id": "yRSyp4QuEp1a",
        "colab_type": "text"
      },
      "source": [
        ""
      ]
    },
    {
      "cell_type": "markdown",
      "metadata": {
        "id": "OpaNwMmAEp4G",
        "colab_type": "text"
      },
      "source": [
        "## 8. Storing Aggregate Data in a DataFrame"
      ]
    },
    {
      "cell_type": "markdown",
      "metadata": {
        "id": "kIRFQbx9Eo8U",
        "colab_type": "text"
      },
      "source": [
        ""
      ]
    },
    {
      "cell_type": "code",
      "metadata": {
        "id": "G7QLyktaET5c",
        "colab_type": "code",
        "colab": {}
      },
      "source": [
        ""
      ],
      "execution_count": null,
      "outputs": []
    }
  ]
}
